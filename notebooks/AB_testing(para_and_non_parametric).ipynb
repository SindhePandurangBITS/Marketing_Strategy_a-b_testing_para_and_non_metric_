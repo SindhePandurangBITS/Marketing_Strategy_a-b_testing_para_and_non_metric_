{
 "cells": [
  {
   "cell_type": "markdown",
   "id": "6e474bac",
   "metadata": {},
   "source": [
    "# **Optimizing Marketing Strategies Using A/B Testing and Statistical Inference**"
   ]
  },
  {
   "cell_type": "markdown",
   "id": "022b7550",
   "metadata": {},
   "source": [
    "<p float=\"left\">\n",
    "  <img src=\"Classification of hypothesis test2.png\" width=\"45%\" />\n",
    "  <img src=\"tests.jpg\" width=\"45%\" />\n",
    "\n",
    "</p>\n"
   ]
  },
  {
   "cell_type": "markdown",
   "id": "e38ed73f",
   "metadata": {},
   "source": [
    "# 1. Business Understandning\n",
    "\n"
   ]
  },
  {
   "cell_type": "markdown",
   "id": "59ff2bd1",
   "metadata": {},
   "source": [
    "\n",
    "---\n",
    "\n",
    "### Goal  \n",
    "- To evaluate how different marketing contact strategies influence customer subscription behavior (`outcome`), and to identify which strategies are most effective in driving conversions.\n",
    "\n",
    "- The primary focus is to simulate a real-world marketing experiment by comparing a **control group** against various **treatment strategies**, and then rank those strategies based on performance.\n",
    "\n",
    "---\n",
    "\n",
    "###  Experimental Design\n",
    "\n",
    "####  Group Definitions\n",
    "\n",
    "- **Treatment Group:**  \n",
    "  Rows where the `poutcome` column is either `\"success\"` or `\"failure\"` — these customers were previously contacted as part of a campaign. They represent the **exposed population**.\n",
    "\n",
    "- **Control Group:**  \n",
    "  Rows where `poutcome` is `null` interpreted as \"not contacted\" or \"other.\" These users serve as a **baseline** to compare against treatment.\n",
    "\n",
    "---\n",
    "\n",
    "###  Key Business Questions\n",
    "\n",
    "1. **Is the treatment group more effective than the control group?**  \n",
    "   - This helps validate whether marketing contact in general improves conversion compared to doing nothing.\n",
    "\n",
    "2. **Does the type of marketing strategy (`marketing_strategy`) impact the success rate?**  \n",
    "   - Evaluates whether different contact methods (e.g., telephone, cellular, voice blast) result in **meaningfully different outcomes**.\n",
    "\n",
    "3. **Which specific marketing strategy performs best?**  \n",
    "   - Pinpoints the **highest-converting method**, guiding future marketing investments and optimization.\n",
    "\n",
    "---\n",
    "\n",
    "###  Why This Matters\n",
    "\n",
    "This stage lays the foundation for the entire analysis:\n",
    "- Helps simulate controlled experimentation in real business conditions.\n",
    "- Links marketing actions to measurable customer behavior.\n",
    "- Enables data-driven decisions on **which strategies to scale** and **which to cut**.\n"
   ]
  },
  {
   "cell_type": "markdown",
   "id": "899795aa",
   "metadata": {},
   "source": [
    "### About Data"
   ]
  },
  {
   "cell_type": "markdown",
   "id": "561ad585",
   "metadata": {},
   "source": [
    "\n",
    "* Dataset Overview\n",
    "- **Name:** Bank Marketing Dataset  \n",
    "- **Source:** UCI Machine Learning Repository  \n",
    "- **Donated On:** February 13, 2012  \n",
    "- **Provider:** Portuguese banking institution  \n",
    "- **Objective:** Predict whether a client subscribes to a term deposit (target variable: `y`)  \n",
    "- **Size:** 45,211 rows × 16 features  \n",
    "- **Type:** Multivariate; includes both categorical and numeric variables  \n",
    "- **License:** [CC BY 4.0](https://creativecommons.org/licenses/by/4.0/) – free to use with attribution  \n",
    "- **Reference Paper:**  \n",
    "  Moro, S., Rita, P., & Cortez, P. (2014).  \n",
    "  *A data-driven approach to predict the success of bank telemarketing*.  \n",
    "  Published in *Decision Support Systems*.\n",
    "\n",
    "---\n",
    "\n",
    "* *Key Fields\n",
    "- `age`, `job`, `education`, `default`, `balance`, `housing`, `loan` – client profile  \n",
    "- `contact`, `duration`, `campaign`, `pdays`, `previous`, `poutcome` – interaction history  \n",
    "- `y` – target variable (yes/no for term deposit subscription)\n",
    "\n",
    "---\n",
    "\n",
    "* Citation\n",
    "> Moro, S., Rita, P., & Cortez, P. (2014). *Bank Marketing [Dataset]*. UCI Machine Learning Repository. [DOI: 10.24432/C5K306](https://doi.org/10.24432/C5K306)\n"
   ]
  },
  {
   "cell_type": "markdown",
   "id": "c3d78cee",
   "metadata": {},
   "source": [
    "# 2. Data Wrangling"
   ]
  },
  {
   "cell_type": "markdown",
   "id": "7bc67018",
   "metadata": {},
   "source": [
    "### install and import modules"
   ]
  },
  {
   "cell_type": "code",
   "execution_count": 61,
   "id": "f00f7ad5",
   "metadata": {},
   "outputs": [
    {
     "name": "stdout",
     "output_type": "stream",
     "text": [
      "Collecting seaborn\n",
      "  Downloading seaborn-0.13.2-py3-none-any.whl.metadata (5.4 kB)\n",
      "Requirement already satisfied: numpy!=1.24.0,>=1.20 in c:\\users\\patil shinde\\.conda\\envs\\cls\\lib\\site-packages (from seaborn) (2.2.5)\n",
      "Requirement already satisfied: pandas>=1.2 in c:\\users\\patil shinde\\.conda\\envs\\cls\\lib\\site-packages (from seaborn) (2.2.3)\n",
      "Requirement already satisfied: matplotlib!=3.6.1,>=3.4 in c:\\users\\patil shinde\\.conda\\envs\\cls\\lib\\site-packages (from seaborn) (3.10.0)\n",
      "Requirement already satisfied: contourpy>=1.0.1 in c:\\users\\patil shinde\\.conda\\envs\\cls\\lib\\site-packages (from matplotlib!=3.6.1,>=3.4->seaborn) (1.3.1)\n",
      "Requirement already satisfied: cycler>=0.10 in c:\\users\\patil shinde\\.conda\\envs\\cls\\lib\\site-packages (from matplotlib!=3.6.1,>=3.4->seaborn) (0.11.0)\n",
      "Requirement already satisfied: fonttools>=4.22.0 in c:\\users\\patil shinde\\.conda\\envs\\cls\\lib\\site-packages (from matplotlib!=3.6.1,>=3.4->seaborn) (4.55.3)\n",
      "Requirement already satisfied: kiwisolver>=1.3.1 in c:\\users\\patil shinde\\.conda\\envs\\cls\\lib\\site-packages (from matplotlib!=3.6.1,>=3.4->seaborn) (1.4.8)\n",
      "Requirement already satisfied: packaging>=20.0 in c:\\users\\patil shinde\\.conda\\envs\\cls\\lib\\site-packages (from matplotlib!=3.6.1,>=3.4->seaborn) (24.2)\n",
      "Requirement already satisfied: pillow>=8 in c:\\users\\patil shinde\\.conda\\envs\\cls\\lib\\site-packages (from matplotlib!=3.6.1,>=3.4->seaborn) (11.1.0)\n",
      "Requirement already satisfied: pyparsing>=2.3.1 in c:\\users\\patil shinde\\.conda\\envs\\cls\\lib\\site-packages (from matplotlib!=3.6.1,>=3.4->seaborn) (3.2.0)\n",
      "Requirement already satisfied: python-dateutil>=2.7 in c:\\users\\patil shinde\\.conda\\envs\\cls\\lib\\site-packages (from matplotlib!=3.6.1,>=3.4->seaborn) (2.9.0.post0)\n",
      "Requirement already satisfied: pytz>=2020.1 in c:\\users\\patil shinde\\.conda\\envs\\cls\\lib\\site-packages (from pandas>=1.2->seaborn) (2024.1)\n",
      "Requirement already satisfied: tzdata>=2022.7 in c:\\users\\patil shinde\\.conda\\envs\\cls\\lib\\site-packages (from pandas>=1.2->seaborn) (2025.2)\n",
      "Requirement already satisfied: six>=1.5 in c:\\users\\patil shinde\\.conda\\envs\\cls\\lib\\site-packages (from python-dateutil>=2.7->matplotlib!=3.6.1,>=3.4->seaborn) (1.17.0)\n",
      "Downloading seaborn-0.13.2-py3-none-any.whl (294 kB)\n",
      "Installing collected packages: seaborn\n",
      "Successfully installed seaborn-0.13.2\n",
      "Note: you may need to restart the kernel to use updated packages.\n"
     ]
    }
   ],
   "source": [
    "%pip install seaborn\n"
   ]
  },
  {
   "cell_type": "code",
   "execution_count": null,
   "id": "11ea0515",
   "metadata": {},
   "outputs": [],
   "source": [
    "import pandas as pd\n",
    "import matplotlib.pyplot as plt\n",
    "import seaborn as sns\n",
    "import numpy as np\n",
    "\n",
    "from scipy.stats import chi2_contingency\n",
    "from scipy.stats import shapiro\n",
    "from scipy.stats import levene\n",
    "from scipy.stats import fisher_exact\n",
    "from scipy.stats import kruskal\n",
    "from scipy.stats import mannwhitneyu\n",
    "from scipy.stats import f_oneway\n",
    "from scipy.stats import ttest_ind\n",
    "from scipy.stats import beta\n",
    "from scipy.stats import norm\n",
    "\n",
    "import statsmodels.api as sm\n",
    "from statsmodels.formula.api import ols\n",
    "from statsmodels.stats.multicomp import pairwise_tukeyhsd\n"
   ]
  },
  {
   "cell_type": "markdown",
   "id": "962e33be",
   "metadata": {},
   "source": [
    "### Wrangling"
   ]
  },
  {
   "cell_type": "code",
   "execution_count": 4,
   "id": "dc8621c8",
   "metadata": {},
   "outputs": [],
   "source": [
    "\n",
    "df = pd.read_csv('C:/Users/Patil Shinde/Desktop/bank_marketing.csv')\n",
    "\n"
   ]
  },
  {
   "cell_type": "code",
   "execution_count": 194,
   "id": "3e213575",
   "metadata": {},
   "outputs": [
    {
     "data": {
      "text/html": [
       "<div>\n",
       "<style scoped>\n",
       "    .dataframe tbody tr th:only-of-type {\n",
       "        vertical-align: middle;\n",
       "    }\n",
       "\n",
       "    .dataframe tbody tr th {\n",
       "        vertical-align: top;\n",
       "    }\n",
       "\n",
       "    .dataframe thead th {\n",
       "        text-align: right;\n",
       "    }\n",
       "</style>\n",
       "<table border=\"1\" class=\"dataframe\">\n",
       "  <thead>\n",
       "    <tr style=\"text-align: right;\">\n",
       "      <th></th>\n",
       "      <th>age</th>\n",
       "      <th>job</th>\n",
       "      <th>marital</th>\n",
       "      <th>education</th>\n",
       "      <th>default</th>\n",
       "      <th>balance</th>\n",
       "      <th>housing</th>\n",
       "      <th>loan</th>\n",
       "      <th>day_of_week</th>\n",
       "      <th>month</th>\n",
       "      <th>duration</th>\n",
       "      <th>campaign</th>\n",
       "      <th>pdays</th>\n",
       "      <th>previous</th>\n",
       "      <th>poutcome</th>\n",
       "      <th>contact</th>\n",
       "      <th>y</th>\n",
       "    </tr>\n",
       "  </thead>\n",
       "  <tbody>\n",
       "    <tr>\n",
       "      <th>0</th>\n",
       "      <td>58</td>\n",
       "      <td>management</td>\n",
       "      <td>married</td>\n",
       "      <td>tertiary</td>\n",
       "      <td>no</td>\n",
       "      <td>2143</td>\n",
       "      <td>yes</td>\n",
       "      <td>no</td>\n",
       "      <td>5</td>\n",
       "      <td>may</td>\n",
       "      <td>261</td>\n",
       "      <td>1</td>\n",
       "      <td>-1</td>\n",
       "      <td>0</td>\n",
       "      <td>NaN</td>\n",
       "      <td>cellular</td>\n",
       "      <td>no</td>\n",
       "    </tr>\n",
       "    <tr>\n",
       "      <th>1</th>\n",
       "      <td>44</td>\n",
       "      <td>technician</td>\n",
       "      <td>single</td>\n",
       "      <td>secondary</td>\n",
       "      <td>no</td>\n",
       "      <td>29</td>\n",
       "      <td>yes</td>\n",
       "      <td>no</td>\n",
       "      <td>5</td>\n",
       "      <td>may</td>\n",
       "      <td>151</td>\n",
       "      <td>1</td>\n",
       "      <td>-1</td>\n",
       "      <td>0</td>\n",
       "      <td>NaN</td>\n",
       "      <td>cellular</td>\n",
       "      <td>no</td>\n",
       "    </tr>\n",
       "    <tr>\n",
       "      <th>2</th>\n",
       "      <td>33</td>\n",
       "      <td>entrepreneur</td>\n",
       "      <td>married</td>\n",
       "      <td>secondary</td>\n",
       "      <td>no</td>\n",
       "      <td>2</td>\n",
       "      <td>yes</td>\n",
       "      <td>yes</td>\n",
       "      <td>5</td>\n",
       "      <td>may</td>\n",
       "      <td>76</td>\n",
       "      <td>1</td>\n",
       "      <td>-1</td>\n",
       "      <td>0</td>\n",
       "      <td>NaN</td>\n",
       "      <td>Cross selling</td>\n",
       "      <td>no</td>\n",
       "    </tr>\n",
       "    <tr>\n",
       "      <th>3</th>\n",
       "      <td>47</td>\n",
       "      <td>blue-collar</td>\n",
       "      <td>married</td>\n",
       "      <td>NaN</td>\n",
       "      <td>no</td>\n",
       "      <td>1506</td>\n",
       "      <td>yes</td>\n",
       "      <td>no</td>\n",
       "      <td>5</td>\n",
       "      <td>may</td>\n",
       "      <td>92</td>\n",
       "      <td>1</td>\n",
       "      <td>-1</td>\n",
       "      <td>0</td>\n",
       "      <td>NaN</td>\n",
       "      <td>cellular</td>\n",
       "      <td>no</td>\n",
       "    </tr>\n",
       "    <tr>\n",
       "      <th>4</th>\n",
       "      <td>33</td>\n",
       "      <td>NaN</td>\n",
       "      <td>single</td>\n",
       "      <td>NaN</td>\n",
       "      <td>no</td>\n",
       "      <td>1</td>\n",
       "      <td>no</td>\n",
       "      <td>no</td>\n",
       "      <td>5</td>\n",
       "      <td>may</td>\n",
       "      <td>198</td>\n",
       "      <td>1</td>\n",
       "      <td>-1</td>\n",
       "      <td>0</td>\n",
       "      <td>NaN</td>\n",
       "      <td>telephone</td>\n",
       "      <td>no</td>\n",
       "    </tr>\n",
       "  </tbody>\n",
       "</table>\n",
       "</div>"
      ],
      "text/plain": [
       "   age           job  marital  education default  balance housing loan  \\\n",
       "0   58    management  married   tertiary      no     2143     yes   no   \n",
       "1   44    technician   single  secondary      no       29     yes   no   \n",
       "2   33  entrepreneur  married  secondary      no        2     yes  yes   \n",
       "3   47   blue-collar  married        NaN      no     1506     yes   no   \n",
       "4   33           NaN   single        NaN      no        1      no   no   \n",
       "\n",
       "   day_of_week month  duration  campaign  pdays  previous poutcome  \\\n",
       "0            5   may       261         1     -1         0      NaN   \n",
       "1            5   may       151         1     -1         0      NaN   \n",
       "2            5   may        76         1     -1         0      NaN   \n",
       "3            5   may        92         1     -1         0      NaN   \n",
       "4            5   may       198         1     -1         0      NaN   \n",
       "\n",
       "         contact   y  \n",
       "0       cellular  no  \n",
       "1       cellular  no  \n",
       "2  Cross selling  no  \n",
       "3       cellular  no  \n",
       "4      telephone  no  "
      ]
     },
     "execution_count": 194,
     "metadata": {},
     "output_type": "execute_result"
    }
   ],
   "source": [
    "df.head()"
   ]
  },
  {
   "cell_type": "code",
   "execution_count": 331,
   "id": "7f3d6182",
   "metadata": {},
   "outputs": [
    {
     "data": {
      "text/plain": [
       "Index(['age', 'job', 'marital', 'education', 'default', 'balance', 'housing',\n",
       "       'loan', 'day_of_week', 'month', 'duration', 'campaign', 'pdays',\n",
       "       'previous', 'poutcome', 'contact', 'y'],\n",
       "      dtype='object')"
      ]
     },
     "execution_count": 331,
     "metadata": {},
     "output_type": "execute_result"
    }
   ],
   "source": [
    "df.columns"
   ]
  },
  {
   "cell_type": "code",
   "execution_count": 195,
   "id": "2f43fe03",
   "metadata": {},
   "outputs": [
    {
     "data": {
      "text/plain": [
       "poutcome\n",
       "failure    4901\n",
       "other      1840\n",
       "success    1511\n",
       "Name: count, dtype: int64"
      ]
     },
     "execution_count": 195,
     "metadata": {},
     "output_type": "execute_result"
    }
   ],
   "source": [
    "df['poutcome'].value_counts()"
   ]
  },
  {
   "cell_type": "code",
   "execution_count": 196,
   "id": "09cd63b5",
   "metadata": {},
   "outputs": [
    {
     "data": {
      "text/plain": [
       "pdays\n",
       "-1      36954\n",
       " 182      167\n",
       " 92       147\n",
       " 183      126\n",
       " 91       126\n",
       "        ...  \n",
       " 749        1\n",
       " 769        1\n",
       " 587        1\n",
       " 778        1\n",
       " 854        1\n",
       "Name: count, Length: 559, dtype: int64"
      ]
     },
     "execution_count": 196,
     "metadata": {},
     "output_type": "execute_result"
    }
   ],
   "source": [
    "df['pdays'].value_counts()"
   ]
  },
  {
   "cell_type": "code",
   "execution_count": 2,
   "id": "e5a6117c",
   "metadata": {},
   "outputs": [],
   "source": [
    "import pandas as pd"
   ]
  },
  {
   "cell_type": "code",
   "execution_count": null,
   "id": "816200fa",
   "metadata": {},
   "outputs": [],
   "source": [
    "df_sample_raw = df.sample(100)\n",
    "\n",
    "import os\n",
    "path = os.path.expanduser(\"~/Desktop/df_sample_raw.csv\")\n",
    "df_sample_raw.to_csv(path, index=False)\n"
   ]
  },
  {
   "cell_type": "markdown",
   "id": "c0826361",
   "metadata": {},
   "source": [
    "# 3. Pre Processing "
   ]
  },
  {
   "cell_type": "markdown",
   "id": "84a065cb",
   "metadata": {},
   "source": [
    "- Our goal is to find out whthere there is significnat difference between each baking marketing strattey or no \n",
    "- if there is difference then which  stratgey is most significnat one, \n",
    "- first prepare treat ment group vs control group \n",
    "- 'poutcome': in poutcome column, we have success (10%), failure(4%), other(4%) and null values(82%) (NaN), we shall delete IDs with other as it doesn't significny anything, \n",
    "- new 'group' columns: Ids with success and failure will become our control group and null values are our treatmnet group"
   ]
  },
  {
   "cell_type": "code",
   "execution_count": 6,
   "id": "0c44257b",
   "metadata": {},
   "outputs": [],
   "source": [
    "df['group'] = df['poutcome'].apply(lambda x: 'control' if pd.isna(x) else 'treatment')\n"
   ]
  },
  {
   "cell_type": "code",
   "execution_count": 7,
   "id": "842a0af2",
   "metadata": {},
   "outputs": [
    {
     "name": "stdout",
     "output_type": "stream",
     "text": [
      "int64\n",
      "[<class 'int'>]\n"
     ]
    }
   ],
   "source": [
    "df['y'] = df['y'].map({'no': 0, 'yes': 1})\n",
    "\n",
    "print(df['y'].dtype)  \n",
    "\n",
    "print(df['y'].apply(type).unique())  \n",
    "\n"
   ]
  },
  {
   "cell_type": "code",
   "execution_count": 8,
   "id": "694e0186",
   "metadata": {},
   "outputs": [],
   "source": [
    "df.rename(columns={'y': 'outcome', 'contact': 'marketing_strategy'}, inplace=True)"
   ]
  },
  {
   "cell_type": "code",
   "execution_count": 335,
   "id": "dd17ed52",
   "metadata": {},
   "outputs": [
    {
     "data": {
      "text/html": [
       "<div>\n",
       "<style scoped>\n",
       "    .dataframe tbody tr th:only-of-type {\n",
       "        vertical-align: middle;\n",
       "    }\n",
       "\n",
       "    .dataframe tbody tr th {\n",
       "        vertical-align: top;\n",
       "    }\n",
       "\n",
       "    .dataframe thead th {\n",
       "        text-align: right;\n",
       "    }\n",
       "</style>\n",
       "<table border=\"1\" class=\"dataframe\">\n",
       "  <thead>\n",
       "    <tr style=\"text-align: right;\">\n",
       "      <th></th>\n",
       "      <th>age</th>\n",
       "      <th>job</th>\n",
       "      <th>marital</th>\n",
       "      <th>education</th>\n",
       "      <th>default</th>\n",
       "      <th>balance</th>\n",
       "      <th>housing</th>\n",
       "      <th>loan</th>\n",
       "      <th>day_of_week</th>\n",
       "      <th>month</th>\n",
       "      <th>duration</th>\n",
       "      <th>campaign</th>\n",
       "      <th>pdays</th>\n",
       "      <th>previous</th>\n",
       "      <th>poutcome</th>\n",
       "      <th>marketing_strategy</th>\n",
       "      <th>outcome</th>\n",
       "      <th>group</th>\n",
       "    </tr>\n",
       "  </thead>\n",
       "  <tbody>\n",
       "    <tr>\n",
       "      <th>0</th>\n",
       "      <td>58</td>\n",
       "      <td>management</td>\n",
       "      <td>married</td>\n",
       "      <td>tertiary</td>\n",
       "      <td>no</td>\n",
       "      <td>2143</td>\n",
       "      <td>yes</td>\n",
       "      <td>no</td>\n",
       "      <td>5</td>\n",
       "      <td>may</td>\n",
       "      <td>261</td>\n",
       "      <td>1</td>\n",
       "      <td>-1</td>\n",
       "      <td>0</td>\n",
       "      <td>NaN</td>\n",
       "      <td>cellular</td>\n",
       "      <td>0</td>\n",
       "      <td>control</td>\n",
       "    </tr>\n",
       "    <tr>\n",
       "      <th>1</th>\n",
       "      <td>44</td>\n",
       "      <td>technician</td>\n",
       "      <td>single</td>\n",
       "      <td>secondary</td>\n",
       "      <td>no</td>\n",
       "      <td>29</td>\n",
       "      <td>yes</td>\n",
       "      <td>no</td>\n",
       "      <td>5</td>\n",
       "      <td>may</td>\n",
       "      <td>151</td>\n",
       "      <td>1</td>\n",
       "      <td>-1</td>\n",
       "      <td>0</td>\n",
       "      <td>NaN</td>\n",
       "      <td>cellular</td>\n",
       "      <td>0</td>\n",
       "      <td>control</td>\n",
       "    </tr>\n",
       "    <tr>\n",
       "      <th>2</th>\n",
       "      <td>33</td>\n",
       "      <td>entrepreneur</td>\n",
       "      <td>married</td>\n",
       "      <td>secondary</td>\n",
       "      <td>no</td>\n",
       "      <td>2</td>\n",
       "      <td>yes</td>\n",
       "      <td>yes</td>\n",
       "      <td>5</td>\n",
       "      <td>may</td>\n",
       "      <td>76</td>\n",
       "      <td>1</td>\n",
       "      <td>-1</td>\n",
       "      <td>0</td>\n",
       "      <td>NaN</td>\n",
       "      <td>Cross selling</td>\n",
       "      <td>0</td>\n",
       "      <td>control</td>\n",
       "    </tr>\n",
       "    <tr>\n",
       "      <th>3</th>\n",
       "      <td>47</td>\n",
       "      <td>blue-collar</td>\n",
       "      <td>married</td>\n",
       "      <td>NaN</td>\n",
       "      <td>no</td>\n",
       "      <td>1506</td>\n",
       "      <td>yes</td>\n",
       "      <td>no</td>\n",
       "      <td>5</td>\n",
       "      <td>may</td>\n",
       "      <td>92</td>\n",
       "      <td>1</td>\n",
       "      <td>-1</td>\n",
       "      <td>0</td>\n",
       "      <td>NaN</td>\n",
       "      <td>cellular</td>\n",
       "      <td>0</td>\n",
       "      <td>control</td>\n",
       "    </tr>\n",
       "    <tr>\n",
       "      <th>4</th>\n",
       "      <td>33</td>\n",
       "      <td>NaN</td>\n",
       "      <td>single</td>\n",
       "      <td>NaN</td>\n",
       "      <td>no</td>\n",
       "      <td>1</td>\n",
       "      <td>no</td>\n",
       "      <td>no</td>\n",
       "      <td>5</td>\n",
       "      <td>may</td>\n",
       "      <td>198</td>\n",
       "      <td>1</td>\n",
       "      <td>-1</td>\n",
       "      <td>0</td>\n",
       "      <td>NaN</td>\n",
       "      <td>telephone</td>\n",
       "      <td>0</td>\n",
       "      <td>control</td>\n",
       "    </tr>\n",
       "  </tbody>\n",
       "</table>\n",
       "</div>"
      ],
      "text/plain": [
       "   age           job  marital  education default  balance housing loan  \\\n",
       "0   58    management  married   tertiary      no     2143     yes   no   \n",
       "1   44    technician   single  secondary      no       29     yes   no   \n",
       "2   33  entrepreneur  married  secondary      no        2     yes  yes   \n",
       "3   47   blue-collar  married        NaN      no     1506     yes   no   \n",
       "4   33           NaN   single        NaN      no        1      no   no   \n",
       "\n",
       "   day_of_week month  duration  campaign  pdays  previous poutcome  \\\n",
       "0            5   may       261         1     -1         0      NaN   \n",
       "1            5   may       151         1     -1         0      NaN   \n",
       "2            5   may        76         1     -1         0      NaN   \n",
       "3            5   may        92         1     -1         0      NaN   \n",
       "4            5   may       198         1     -1         0      NaN   \n",
       "\n",
       "  marketing_strategy  outcome    group  \n",
       "0           cellular        0  control  \n",
       "1           cellular        0  control  \n",
       "2      Cross selling        0  control  \n",
       "3           cellular        0  control  \n",
       "4          telephone        0  control  "
      ]
     },
     "execution_count": 335,
     "metadata": {},
     "output_type": "execute_result"
    }
   ],
   "source": [
    "df.head()"
   ]
  },
  {
   "cell_type": "code",
   "execution_count": 9,
   "id": "5c2f0801",
   "metadata": {},
   "outputs": [
    {
     "data": {
      "text/plain": [
       "Index(['age', 'job', 'marital', 'education', 'default', 'balance', 'housing',\n",
       "       'loan', 'day_of_week', 'month', 'duration', 'campaign', 'pdays',\n",
       "       'previous', 'poutcome', 'marketing_strategy', 'outcome', 'group'],\n",
       "      dtype='object')"
      ]
     },
     "execution_count": 9,
     "metadata": {},
     "output_type": "execute_result"
    }
   ],
   "source": [
    "df.columns"
   ]
  },
  {
   "cell_type": "markdown",
   "id": "b5e1bacd",
   "metadata": {},
   "source": [
    "\n",
    "Our goal is to identify the **best marketing campaign strategy** through an A/B test. For this, we only need the following columns:\n",
    "\n",
    "- **Group assignment**:  \n",
    "  Indicates whether the sample belongs to the **control** or **treatment** group (`group` column).\n",
    "\n",
    "- **Type of marketing strategy**:  \n",
    "  Represents the marketing channel used (`contact` column).\n",
    "\n",
    "- **Outcome variable**:  \n",
    "  Shows whether the campaign was successful. In our case, this is the `poutcome` column.\n"
   ]
  },
  {
   "cell_type": "code",
   "execution_count": 10,
   "id": "eb11c35c",
   "metadata": {},
   "outputs": [],
   "source": [
    "ab = df[['group', 'marketing_strategy', 'outcome']]\n"
   ]
  },
  {
   "cell_type": "code",
   "execution_count": 11,
   "id": "87d596d4",
   "metadata": {},
   "outputs": [
    {
     "data": {
      "text/html": [
       "<div>\n",
       "<style scoped>\n",
       "    .dataframe tbody tr th:only-of-type {\n",
       "        vertical-align: middle;\n",
       "    }\n",
       "\n",
       "    .dataframe tbody tr th {\n",
       "        vertical-align: top;\n",
       "    }\n",
       "\n",
       "    .dataframe thead th {\n",
       "        text-align: right;\n",
       "    }\n",
       "</style>\n",
       "<table border=\"1\" class=\"dataframe\">\n",
       "  <thead>\n",
       "    <tr style=\"text-align: right;\">\n",
       "      <th></th>\n",
       "      <th>group</th>\n",
       "      <th>marketing_strategy</th>\n",
       "      <th>outcome</th>\n",
       "    </tr>\n",
       "  </thead>\n",
       "  <tbody>\n",
       "    <tr>\n",
       "      <th>0</th>\n",
       "      <td>control</td>\n",
       "      <td>cellular</td>\n",
       "      <td>0</td>\n",
       "    </tr>\n",
       "    <tr>\n",
       "      <th>1</th>\n",
       "      <td>control</td>\n",
       "      <td>cellular</td>\n",
       "      <td>0</td>\n",
       "    </tr>\n",
       "    <tr>\n",
       "      <th>2</th>\n",
       "      <td>control</td>\n",
       "      <td>Cross selling</td>\n",
       "      <td>0</td>\n",
       "    </tr>\n",
       "    <tr>\n",
       "      <th>3</th>\n",
       "      <td>control</td>\n",
       "      <td>cellular</td>\n",
       "      <td>0</td>\n",
       "    </tr>\n",
       "    <tr>\n",
       "      <th>4</th>\n",
       "      <td>control</td>\n",
       "      <td>telephone</td>\n",
       "      <td>0</td>\n",
       "    </tr>\n",
       "  </tbody>\n",
       "</table>\n",
       "</div>"
      ],
      "text/plain": [
       "     group marketing_strategy  outcome\n",
       "0  control           cellular        0\n",
       "1  control           cellular        0\n",
       "2  control      Cross selling        0\n",
       "3  control           cellular        0\n",
       "4  control          telephone        0"
      ]
     },
     "execution_count": 11,
     "metadata": {},
     "output_type": "execute_result"
    }
   ],
   "source": [
    "ab.head()"
   ]
  },
  {
   "cell_type": "code",
   "execution_count": 338,
   "id": "1235a6ab",
   "metadata": {},
   "outputs": [
    {
     "data": {
      "text/plain": [
       "outcome\n",
       "0    40273\n",
       "1     4938\n",
       "Name: count, dtype: int64"
      ]
     },
     "execution_count": 338,
     "metadata": {},
     "output_type": "execute_result"
    }
   ],
   "source": [
    "ab['outcome'].value_counts()"
   ]
  },
  {
   "cell_type": "code",
   "execution_count": 12,
   "id": "05bb143a",
   "metadata": {},
   "outputs": [],
   "source": [
    "df_sample_processed = ab.sample(100)\n",
    "\n",
    "import os\n",
    "path = os.path.expanduser(\"~/Desktop/df_sample_processed.csv\")\n",
    "df_sample_processed.to_csv(path, index=False)"
   ]
  },
  {
   "cell_type": "markdown",
   "id": "14ad9acf",
   "metadata": {},
   "source": [
    "# 4. EDA (Exploratory Data Analysis)"
   ]
  },
  {
   "cell_type": "code",
   "execution_count": 379,
   "id": "ec2e36ff",
   "metadata": {},
   "outputs": [],
   "source": [
    "import seaborn as sns\n",
    "import matplotlib.pyplot as plt"
   ]
  },
  {
   "cell_type": "code",
   "execution_count": null,
   "id": "48c198d9",
   "metadata": {},
   "outputs": [
    {
     "data": {
      "image/png": "[encoded data removed]",
      "text/plain": [
       "<Figure size 1800x500 with 3 Axes>"
      ]
     },
     "metadata": {},
     "output_type": "display_data"
    }
   ],
   "source": [
    "fig, axes = plt.subplots(1, 3, figsize=(18, 5))\n",
    "\n",
    "sns.countplot(data=ab, x='marketing_strategy', ax=axes[0])\n",
    "axes[0].set_title('Contact Method Distribution')\n",
    "axes[0].tick_params(axis='x', rotation=45)\n",
    "\n",
    "sns.countplot(data=ab, x='group', ax=axes[1])\n",
    "axes[1].set_title('Group Distribution')\n",
    "\n",
    "sns.countplot(data=ab, x='outcome', ax=axes[2])\n",
    "axes[2].set_title('Outcome Distribution')\n",
    "\n",
    "plt.tight_layout()\n",
    "plt.show()"
   ]
  },
  {
   "cell_type": "code",
   "execution_count": null,
   "id": "97211b47",
   "metadata": {},
   "outputs": [
    {
     "data": {
      "image/png": "[encoded data removed]",
      "text/plain": [
       "<Figure size 600x500 with 1 Axes>"
      ]
     },
     "metadata": {},
     "output_type": "display_data"
    }
   ],
   "source": [
    "palette = {'treatment': 'blue', 'control': 'navy'}\n",
    "\n",
    "\n",
    "plt.figure(figsize=(6, 5))\n",
    "sns.countplot(data=ab, x='marketing_strategy', hue='group', palette=palette)\n",
    "plt.title('Contact Method Distribution by Group')\n",
    "plt.xticks(rotation=45)\n",
    "plt.tight_layout()\n",
    "plt.show()"
   ]
  },
  {
   "cell_type": "code",
   "execution_count": null,
   "id": "c269f9e9",
   "metadata": {},
   "outputs": [
    {
     "name": "stderr",
     "output_type": "stream",
     "text": [
      "C:\\Users\\Patil Shinde\\AppData\\Local\\Temp\\ipykernel_10236\\3556980446.py:3: FutureWarning: \n",
      "\n",
      "Passing `palette` without assigning `hue` is deprecated and will be removed in v0.14.0. Assign the `x` variable to `hue` and set `legend=False` for the same effect.\n",
      "\n",
      "  sns.countplot(data=ab, x='group', palette=palette)\n"
     ]
    },
    {
     "data": {
      "image/png": "[encoded data removed]",
      "text/plain": [
       "<Figure size 600x500 with 1 Axes>"
      ]
     },
     "metadata": {},
     "output_type": "display_data"
    }
   ],
   "source": [
    "\n",
    "\n",
    "plt.figure(figsize=(6, 5))\n",
    "sns.countplot(data=ab, x='group', palette=palette)\n",
    "plt.title('Group Distribution')\n",
    "plt.tight_layout()\n",
    "plt.show()\n"
   ]
  },
  {
   "cell_type": "code",
   "execution_count": null,
   "id": "5e04569f",
   "metadata": {},
   "outputs": [
    {
     "data": {
      "image/png": "[encoded data removed]",
      "text/plain": [
       "<Figure size 600x500 with 1 Axes>"
      ]
     },
     "metadata": {},
     "output_type": "display_data"
    }
   ],
   "source": [
    "\n",
    "plt.figure(figsize=(6, 5))\n",
    "sns.countplot(data=ab, x='outcome', hue='group', palette=palette)\n",
    "plt.title('Outcome Distribution by Group')\n",
    "plt.tight_layout()\n",
    "plt.show()"
   ]
  },
  {
   "cell_type": "markdown",
   "id": "5916a980",
   "metadata": {},
   "source": [
    "**Correlation**\n",
    "* **Identify potential influencers of conversion**: Correlation plots help spot which features (treatment group, specific marketing strategies) are positively or negatively associated with the outcome before deeper analysis.\n",
    "\n",
    "* **Guide feature selection and hypothesis testing**: Seeing early correlations can help prioritize which variables to include in models or tests  ANOVA, Bayesian, or pairwise comparisons.\n"
   ]
  },
  {
   "cell_type": "code",
   "execution_count": null,
   "id": "7e4bbf31",
   "metadata": {},
   "outputs": [
    {
     "name": "stdout",
     "output_type": "stream",
     "text": [
      "outcome                              1.000000\n",
      "group_treatment                      0.127900\n",
      "marketing_strategy_Festive offers    0.034035\n",
      "marketing_strategy_Welcome calls     0.027019\n",
      "marketing_strategy_Voice blasts      0.020421\n",
      "marketing_strategy_telephone         0.015910\n",
      "marketing_strategy_SMS callbacks     0.014284\n",
      "marketing_strategy_Upgrades          0.004908\n",
      "marketing_strategy_Loan offers      -0.002415\n",
      "marketing_strategy_Lead followup    -0.021058\n",
      "marketing_strategy_cellular         -0.037724\n",
      "Name: outcome, dtype: float64\n"
     ]
    }
   ],
   "source": [
    "\n",
    "df_encoded = pd.get_dummies(ab, columns=['group', 'marketing_strategy'], drop_first=True)\n",
    "\n",
    "correlation_matrix = df_encoded.corr()\n",
    "\n",
    "correlation_with_outcome = correlation_matrix['outcome'].sort_values(ascending=False)\n",
    "print(correlation_with_outcome)\n"
   ]
  },
  {
   "cell_type": "code",
   "execution_count": 388,
   "id": "a8ad0a1e",
   "metadata": {},
   "outputs": [
    {
     "data": {
      "image/png": "[encoded data removed]",
      "text/plain": [
       "<Figure size 1000x600 with 2 Axes>"
      ]
     },
     "metadata": {},
     "output_type": "display_data"
    }
   ],
   "source": [
    "import seaborn as sns\n",
    "import matplotlib.pyplot as plt\n",
    "\n",
    "plt.figure(figsize=(10, 6))\n",
    "sns.heatmap(correlation_matrix, annot=True, cmap='coolwarm', fmt=\".2f\")\n",
    "plt.title('Correlation Matrix (with Encoded Categories)')\n",
    "plt.show()\n"
   ]
  },
  {
   "cell_type": "markdown",
   "id": "d1ce6d8f",
   "metadata": {},
   "source": [
    "* **Treatment shows positive impact**: Being in the treatment group correlates with higher conversions (r = 0.128).\n",
    "* **Strategy signals**: Festive offers, Welcome calls, and Voice blasts show slight positive lift. Cellular and Lead followup show slight negative association.\n"
   ]
  },
  {
   "cell_type": "code",
   "execution_count": 207,
   "id": "06741f52",
   "metadata": {},
   "outputs": [
    {
     "data": {
      "text/plain": [
       "group\n",
       "control      36959\n",
       "treatment     8252\n",
       "Name: count, dtype: int64"
      ]
     },
     "execution_count": 207,
     "metadata": {},
     "output_type": "execute_result"
    }
   ],
   "source": [
    "ab['group'].value_counts()\n"
   ]
  },
  {
   "cell_type": "code",
   "execution_count": 208,
   "id": "61527e17",
   "metadata": {},
   "outputs": [
    {
     "data": {
      "text/plain": [
       "group\n",
       "control      0.09037\n",
       "treatment    0.19062\n",
       "Name: outcome, dtype: float64"
      ]
     },
     "execution_count": 208,
     "metadata": {},
     "output_type": "execute_result"
    }
   ],
   "source": [
    "ab.groupby('group')['outcome'].mean()\n"
   ]
  },
  {
   "cell_type": "code",
   "execution_count": 209,
   "id": "e49c8b70",
   "metadata": {},
   "outputs": [],
   "source": [
    "control = ab[ab['group'] == 'control']\n"
   ]
  },
  {
   "cell_type": "markdown",
   "id": "6c29fce1",
   "metadata": {},
   "source": [
    "# 5. Diganostic tests "
   ]
  },
  {
   "cell_type": "markdown",
   "id": "79bdfd87",
   "metadata": {},
   "source": [
    "* **Validate assumptions**: Diagnostics ensure A/B test conditions like normality and equal variances are met.\n",
    "* **Avoid misleading results**: They help choose the right test and improve result reliability.\n"
   ]
  },
  {
   "cell_type": "markdown",
   "id": "a4f55425",
   "metadata": {},
   "source": [
    "\n",
    "---\n",
    "\n",
    "- **Q-Q Plot**\n",
    "- Visual tool to assess if residuals follow a normal distribution.\n",
    "- Plots quantiles of residuals against theoretical normal quantiles.\n",
    "- If points fall on the diagonal line, normality is likely satisfied.\n",
    "\n",
    "---\n",
    "\n",
    "- **Shapiro–Wilk Test**\n",
    "- Formal test for normality of a distribution (typically residuals).\n",
    "- Null hypothesis: data are normally distributed.\n",
    "- p-value > 0.05 suggests no strong evidence against normality.\n",
    "\n",
    "---\n",
    "\n",
    "- **Levene’s Test**\n",
    "- Assesses homogeneity of variances across groups.\n",
    "- Null hypothesis: all groups have equal variances.\n",
    "- Used before ANOVA or t-tests to validate equal variance assumption.\n",
    "\n",
    "---\n",
    "\n",
    "- **Residual Plots**\n",
    "- Plots residuals vs. fitted values to check for patterns or bias.\n",
    "- Helps detect non-linearity, heteroscedasticity, and outliers.\n",
    "- Should show random scatter if assumptions hold.\n",
    "\n",
    "---"
   ]
  },
  {
   "cell_type": "markdown",
   "id": "eac40127",
   "metadata": {},
   "source": [
    "### Normality Check(Shapiro-Wilk Test)\n"
   ]
  },
  {
   "cell_type": "code",
   "execution_count": null,
   "id": "98bb5e74",
   "metadata": {},
   "outputs": [
    {
     "name": "stdout",
     "output_type": "stream",
     "text": [
      "Cross selling: p = 0.0000\n",
      "Festive offers: p = 0.0000\n",
      "Lead followup: p = 0.0000\n",
      "Loan offers: p = 0.0000\n",
      "SMS callbacks: p = 0.0000\n",
      "Upgrades: p = 0.0000\n",
      "Voice blasts: p = 0.0000\n",
      "Welcome calls: p = 0.0000\n",
      "cellular: p = 0.0000\n",
      "telephone: p = 0.0000\n"
     ]
    }
   ],
   "source": [
    "from scipy.stats import shapiro\n",
    "\n",
    "for name, group in treat_only.groupby('marketing_strategy'):\n",
    "    stat, p = shapiro(group['outcome'])\n",
    "    print(f\"{name}: p = {p:.4f}\")\n"
   ]
  },
  {
   "cell_type": "markdown",
   "id": "19bae852",
   "metadata": {},
   "source": [
    "**Results**\n",
    "- **Result**: p = 0.0000 for all groups, strong evidence against normality.  \n",
    "- **Conclusion**: Normality assumption is violated, which is expected since the outcome is binary (0 or 1), not continuous.\n"
   ]
  },
  {
   "cell_type": "markdown",
   "id": "b3eaa79c",
   "metadata": {},
   "source": [
    "### Homogeneity of Variance (Levene's Test)"
   ]
  },
  {
   "cell_type": "code",
   "execution_count": 307,
   "metadata": {},
   "outputs": [
    {
     "name": "stdout",
     "output_type": "stream",
     "text": [
      "Levene's test p = 0.0000\n"
     ]
    }
   ],
   "source": [
    "from scipy.stats import levene\n",
    "\n",
    "grouped_data = [group['outcome'].values for name, group in treat_only.groupby('marketing_strategy')]\n",
    "stat, p = levene(*grouped_data)\n",
    "print(f\"Levene's test p = {p:.4f}\")\n"
   ]
  },
  {
   "cell_type": "markdown",
   "id": "6b7f4c84",
   "metadata": {},
   "source": [
    "**Homogeneity of Variance (Levene's Test)**\n",
    "- **Result**: p = 0.0000, group variances are not equal.  \n",
    "- **Conclusion**: Equal variance assumption is violated, outcome variability differs significantly across strategies."
   ]
  },
  {
   "cell_type": "markdown",
   "id": "e5aaa5b3",
   "metadata": {},
   "source": [
    "### ANOVA Residulas Normality Check(Q-Q Plot)"
   ]
  },
  {
   "cell_type": "code",
   "execution_count": null,
   "id": "8fd5c7d8",
   "metadata": {},
   "outputs": [
    {
     "name": "stderr",
     "output_type": "stream",
     "text": [
      "c:\\Users\\Patil Shinde\\.conda\\envs\\cls\\lib\\site-packages\\scipy\\stats\\_axis_nan_policy.py:586: UserWarning: scipy.stats.shapiro: For N > 5000, computed p-value may not be accurate. Current N is 8252.\n",
      "  res = hypotest_fun_out(*samples, **kwds)\n"
     ]
    },
    {
     "name": "stdout",
     "output_type": "stream",
     "text": [
      "Shapiro-Wilk Test p-value: 0.0000\n"
     ]
    },
    {
     "data": {
      "image/png": "[encoded data removed]",
      "text/plain": [
       "<Figure size 640x480 with 1 Axes>"
      ]
     },
     "metadata": {},
     "output_type": "display_data"
    }
   ],
   "source": [
    "import statsmodels.api as sm\n",
    "from statsmodels.formula.api import ols\n",
    "import scipy.stats as stats\n",
    "import matplotlib.pyplot as plt\n",
    "\n",
    "model = ols('outcome ~ C(marketing_strategy)', data=treat_only).fit()\n",
    "\n",
    "residuals = model.resid\n",
    "\n",
    "shapiro_stat, shapiro_p = stats.shapiro(residuals)\n",
    "print(f\"Shapiro-Wilk Test p-value: {shapiro_p:.4f}\")\n",
    "\n",
    "sm.qqplot(residuals, line='s')\n",
    "plt.title(\"Q-Q Plot of ANOVA Residuals\")\n",
    "plt.show()"
   ]
  },
  {
   "cell_type": "markdown",
   "id": "1ebc754a",
   "metadata": {},
   "source": [
    "### Checking Normality Approximation Condition (Z-test norm)"
   ]
  },
  {
   "cell_type": "code",
   "execution_count": null,
   "id": "bbff6428",
   "metadata": {},
   "outputs": [],
   "source": [
    "treat_only = ab[ab['group'] == 'treatment']\n",
    "\n",
    "grouped_outcomes = {name: group['outcome'].values for name, group in treat_only.groupby('marketing_strategy')}\n",
    "\n",
    "normal_approx_checks = []\n"
   ]
  },
  {
   "cell_type": "code",
   "execution_count": null,
   "id": "5c618d3c",
   "metadata": {},
   "outputs": [],
   "source": [
    "for a, b in combinations(grouped_outcomes.keys(), 2):\n",
    "    group1 = grouped_outcomes[a]\n",
    "    group2 = grouped_outcomes[b]\n",
    "\n",
    "    n1 = len(group1)\n",
    "    x1 = group1.sum()\n",
    "    p1 = x1 / n1\n",
    "\n",
    "    n2 = len(group2)\n",
    "    x2 = group2.sum()\n",
    "    p2 = x2 / n2\n",
    "\n",
    "    cond_met = (\n",
    "        (n1 * p1 >= 5) and\n",
    "        (n1 * (1 - p1) >= 5) and\n",
    "        (n2 * p2 >= 5) and\n",
    "        (n2 * (1 - p2) >= 5)\n",
    "    )\n",
    "\n",
    "    normal_approx_checks.append({\n",
    "        'method_1': a,\n",
    "        'method_2': b,\n",
    "        'n1*p1': round(n1 * p1, 2),\n",
    "        'n1*(1-p1)': round(n1 * (1 - p1), 2),\n",
    "        'n2*p2': round(n2 * p2, 2),\n",
    "        'n2*(1-p2)': round(n2 * (1 - p2), 2),\n",
    "        'condition_met': cond_met\n",
    "    })\n",
    "\n"
   ]
  },
  {
   "cell_type": "code",
   "execution_count": null,
   "id": "0113a586",
   "metadata": {},
   "outputs": [],
   "source": [
    "normal_approx_df = pd.DataFrame(normal_approx_checks)"
   ]
  },
  {
   "cell_type": "code",
   "execution_count": 342,
   "id": "5e81aca0",
   "metadata": {},
   "outputs": [
    {
     "data": {
      "text/html": [
       "<div>\n",
       "<style scoped>\n",
       "    .dataframe tbody tr th:only-of-type {\n",
       "        vertical-align: middle;\n",
       "    }\n",
       "\n",
       "    .dataframe tbody tr th {\n",
       "        vertical-align: top;\n",
       "    }\n",
       "\n",
       "    .dataframe thead th {\n",
       "        text-align: right;\n",
       "    }\n",
       "</style>\n",
       "<table border=\"1\" class=\"dataframe\">\n",
       "  <thead>\n",
       "    <tr style=\"text-align: right;\">\n",
       "      <th></th>\n",
       "      <th>method_1</th>\n",
       "      <th>method_2</th>\n",
       "      <th>n1*p1</th>\n",
       "      <th>n1*(1-p1)</th>\n",
       "      <th>n2*p2</th>\n",
       "      <th>n2*(1-p2)</th>\n",
       "      <th>condition_met</th>\n",
       "    </tr>\n",
       "  </thead>\n",
       "  <tbody>\n",
       "  </tbody>\n",
       "</table>\n",
       "</div>"
      ],
      "text/plain": [
       "Empty DataFrame\n",
       "Columns: [method_1, method_2, n1*p1, n1*(1-p1), n2*p2, n2*(1-p2), condition_met]\n",
       "Index: []"
      ]
     },
     "execution_count": 342,
     "metadata": {},
     "output_type": "execute_result"
    }
   ],
   "source": [
    "\n",
    "normal_approx_df[normal_approx_df['condition_met'] == False].head(20)\n"
   ]
  },
  {
   "cell_type": "markdown",
   "id": "670c96fd",
   "metadata": {},
   "source": [
    "- Not even a single pair is voilating the normal apprx condition, we can apply z-test"
   ]
  },
  {
   "cell_type": "markdown",
   "id": "2ab0bc10",
   "metadata": {},
   "source": [
    "# 6. a/b tests (Parametric), Assmuptions (Valid)"
   ]
  },
  {
   "cell_type": "markdown",
   "id": "e53ec551",
   "metadata": {},
   "source": [
    "### 5A. a/b test (Chi-Square) - treatment vs control significance"
   ]
  },
  {
   "cell_type": "markdown",
   "id": "e28a65a2",
   "metadata": {},
   "source": [
    "**Chi-Square Test Assumptions – Status Check**\n",
    "\n",
    "| **Assumption**                 | **Status**                                                                 |\n",
    "|-------------------------------|-----------------------------------------------------------------------------|\n",
    "| Independence of observations  |  Each row represents a unique user → assumption met                      |\n",
    "| Categorical variables          |  `outcome` is binary; `marketing_strategy` is categorical → met         |\n",
    "| Mutually exclusive groups     |  Each observation belongs to one group and one strategy → met            |\n",
    "| Expected cell count ≥ 5       |  All contingency tables have expected counts > 5 → assumption met        |\n"
   ]
  },
  {
   "cell_type": "markdown",
   "id": "04c0cb95",
   "metadata": {},
   "source": [
    "- **Hypotheses & select test**\n",
    "\n",
    "  - **Null hypothesis (H₀):**  \n",
    "  Success rate in “treatment” \\(p_t\\) = Success rate in “control” \\(p_c\\) for a given contact method  \n",
    "\n",
    "  - **Alternative hypothesis (H₁):**  \n",
    "  Success rate in “treatment” \\(p_t\\) ≠ Success rate in “control” \\(p_c\\)  \n",
    "\n",
    "  - **Test selection:**  \n",
    "  We use Pearson’s χ² test on a 2×2 contingency table because both the row variable (group: treatment vs. control) and the column variable (outcome: success vs. failure) are categorical, and we want to compare proportions.\n"
   ]
  },
  {
   "cell_type": "markdown",
   "id": "5b0b0c20",
   "metadata": {},
   "source": [
    "\n",
    "- **Build Contingency Table**  \n",
    "   - Count successes & failures for treatment and control:  \n",
    "     ```python\n",
    "     table = [\n",
    "       [treatment_success,  treatment_total - treatment_success],\n",
    "       [control_success,    control_total   - control_success]\n",
    "     ]\n",
    "     ```  \n",
    "   - This 2×2 table summarizes “success vs. failure” by “treatment vs. control.”\n",
    "\n",
    "- **Perform Chi-Square Test**  \n",
    "   - Call SciPy’s test:  \n",
    "     ```python\n",
    "     chi2, p, _, _ = chi2_contingency(table)\n",
    "     ```  \n",
    "   - `p` gives the probability of observing a difference at least as extreme under the null hypothesis (no difference).\n"
   ]
  },
  {
   "cell_type": "code",
   "execution_count": 223,
   "metadata": {},
   "outputs": [],
   "source": [
    "from scipy.stats import chi2_contingency\n",
    "import pandas as pd\n",
    "\n",
    "results = []\n"
   ]
  },
  {
   "cell_type": "code",
   "execution_count": 302,
   "id": "d6ef674d",
   "metadata": {},
   "outputs": [
    {
     "data": {
      "text/html": [
       "<div>\n",
       "<style scoped>\n",
       "    .dataframe tbody tr th:only-of-type {\n",
       "        vertical-align: middle;\n",
       "    }\n",
       "\n",
       "    .dataframe tbody tr th {\n",
       "        vertical-align: top;\n",
       "    }\n",
       "\n",
       "    .dataframe thead th {\n",
       "        text-align: right;\n",
       "    }\n",
       "</style>\n",
       "<table border=\"1\" class=\"dataframe\">\n",
       "  <thead>\n",
       "    <tr style=\"text-align: right;\">\n",
       "      <th></th>\n",
       "      <th>group</th>\n",
       "      <th>marketing_strategy</th>\n",
       "      <th>outcome</th>\n",
       "    </tr>\n",
       "  </thead>\n",
       "  <tbody>\n",
       "    <tr>\n",
       "      <th>0</th>\n",
       "      <td>control</td>\n",
       "      <td>cellular</td>\n",
       "      <td>0</td>\n",
       "    </tr>\n",
       "    <tr>\n",
       "      <th>1</th>\n",
       "      <td>control</td>\n",
       "      <td>cellular</td>\n",
       "      <td>0</td>\n",
       "    </tr>\n",
       "    <tr>\n",
       "      <th>2</th>\n",
       "      <td>control</td>\n",
       "      <td>Cross selling</td>\n",
       "      <td>0</td>\n",
       "    </tr>\n",
       "    <tr>\n",
       "      <th>3</th>\n",
       "      <td>control</td>\n",
       "      <td>cellular</td>\n",
       "      <td>0</td>\n",
       "    </tr>\n",
       "    <tr>\n",
       "      <th>4</th>\n",
       "      <td>control</td>\n",
       "      <td>telephone</td>\n",
       "      <td>0</td>\n",
       "    </tr>\n",
       "  </tbody>\n",
       "</table>\n",
       "</div>"
      ],
      "text/plain": [
       "     group marketing_strategy  outcome\n",
       "0  control           cellular        0\n",
       "1  control           cellular        0\n",
       "2  control      Cross selling        0\n",
       "3  control           cellular        0\n",
       "4  control          telephone        0"
      ]
     },
     "execution_count": 302,
     "metadata": {},
     "output_type": "execute_result"
    }
   ],
   "source": [
    "ab.head()"
   ]
  },
  {
   "cell_type": "code",
   "execution_count": null,
   "id": "0e8e1f3d",
   "metadata": {},
   "outputs": [],
   "source": [
    "\n",
    "for method in ab['marketing_strategy'].unique():\n",
    "    treatment = ab[(ab['group'] == 'treatment') & (ab['marketing_strategy'] == method)]\n",
    "\n",
    "    if treatment.empty:\n",
    "        continue\n",
    "\n",
    "    test_success = treatment['outcome'].sum()\n",
    "    test_total = len(treatment)\n",
    "\n",
    "    control_success = control['outcome'].sum()\n",
    "    control_total = len(control)\n",
    "\n",
    "    if test_total == 0 or control_total == 0:\n",
    "        continue\n",
    "\n",
    "    table = [\n",
    "        [test_success, test_total - test_success],\n",
    "        [control_success, control_total - control_success]\n",
    "    ]\n",
    "\n",
    "    chi2, p, _, _ = chi2_contingency(table)\n",
    "\n",
    "    if p < 0.05:\n",
    "        if test_success / test_total > control_success / control_total:\n",
    "            status = \"Better than control\"\n",
    "        elif test_success / test_total < control_success / control_total:\n",
    "            status = \"Worse than control\"\n",
    "        else:\n",
    "            status = \"Same as control\"\n",
    "    else:\n",
    "        status = \"No significant difference\"\n",
    "\n",
    "    results.append({\n",
    "        'marketing_strategy': method,\n",
    "        'treatment_success_rate': round(test_success / test_total, 4),\n",
    "        'control_success_rate': round(control_success / control_total, 4),\n",
    "        'p_value': round(p, 4),\n",
    "        'result': status\n",
    "    })\n",
    "\n"
   ]
  },
  {
   "cell_type": "code",
   "execution_count": 305,
   "id": "bfe61faa",
   "metadata": {},
   "outputs": [],
   "source": [
    "ab_summary = pd.DataFrame(results).sort_values('p_value')\n"
   ]
  },
  {
   "cell_type": "code",
   "execution_count": 226,
   "id": "98042a83",
   "metadata": {},
   "outputs": [
    {
     "data": {
      "text/html": [
       "<div>\n",
       "<style scoped>\n",
       "    .dataframe tbody tr th:only-of-type {\n",
       "        vertical-align: middle;\n",
       "    }\n",
       "\n",
       "    .dataframe tbody tr th {\n",
       "        vertical-align: top;\n",
       "    }\n",
       "\n",
       "    .dataframe thead th {\n",
       "        text-align: right;\n",
       "    }\n",
       "</style>\n",
       "<table border=\"1\" class=\"dataframe\">\n",
       "  <thead>\n",
       "    <tr style=\"text-align: right;\">\n",
       "      <th></th>\n",
       "      <th>marketing_strategy</th>\n",
       "      <th>treatment_success_rate</th>\n",
       "      <th>control_success_rate</th>\n",
       "      <th>p_value</th>\n",
       "      <th>result</th>\n",
       "    </tr>\n",
       "  </thead>\n",
       "  <tbody>\n",
       "    <tr>\n",
       "      <th>1</th>\n",
       "      <td>Cross selling</td>\n",
       "      <td>0.1505</td>\n",
       "      <td>0.0904</td>\n",
       "      <td>0.0000</td>\n",
       "      <td>Better than control</td>\n",
       "    </tr>\n",
       "    <tr>\n",
       "      <th>2</th>\n",
       "      <td>telephone</td>\n",
       "      <td>0.2563</td>\n",
       "      <td>0.0904</td>\n",
       "      <td>0.0000</td>\n",
       "      <td>Better than control</td>\n",
       "    </tr>\n",
       "    <tr>\n",
       "      <th>3</th>\n",
       "      <td>Upgrades</td>\n",
       "      <td>0.2327</td>\n",
       "      <td>0.0904</td>\n",
       "      <td>0.0000</td>\n",
       "      <td>Better than control</td>\n",
       "    </tr>\n",
       "    <tr>\n",
       "      <th>4</th>\n",
       "      <td>Loan offers</td>\n",
       "      <td>0.1906</td>\n",
       "      <td>0.0904</td>\n",
       "      <td>0.0000</td>\n",
       "      <td>Better than control</td>\n",
       "    </tr>\n",
       "    <tr>\n",
       "      <th>7</th>\n",
       "      <td>Voice blasts</td>\n",
       "      <td>0.3588</td>\n",
       "      <td>0.0904</td>\n",
       "      <td>0.0000</td>\n",
       "      <td>Better than control</td>\n",
       "    </tr>\n",
       "    <tr>\n",
       "      <th>6</th>\n",
       "      <td>SMS callbacks</td>\n",
       "      <td>0.3066</td>\n",
       "      <td>0.0904</td>\n",
       "      <td>0.0000</td>\n",
       "      <td>Better than control</td>\n",
       "    </tr>\n",
       "    <tr>\n",
       "      <th>9</th>\n",
       "      <td>Welcome calls</td>\n",
       "      <td>0.4416</td>\n",
       "      <td>0.0904</td>\n",
       "      <td>0.0000</td>\n",
       "      <td>Better than control</td>\n",
       "    </tr>\n",
       "    <tr>\n",
       "      <th>8</th>\n",
       "      <td>Festive offers</td>\n",
       "      <td>0.4162</td>\n",
       "      <td>0.0904</td>\n",
       "      <td>0.0000</td>\n",
       "      <td>Better than control</td>\n",
       "    </tr>\n",
       "    <tr>\n",
       "      <th>0</th>\n",
       "      <td>cellular</td>\n",
       "      <td>0.0638</td>\n",
       "      <td>0.0904</td>\n",
       "      <td>0.0002</td>\n",
       "      <td>Worse than control</td>\n",
       "    </tr>\n",
       "    <tr>\n",
       "      <th>5</th>\n",
       "      <td>Lead followup</td>\n",
       "      <td>0.0998</td>\n",
       "      <td>0.0904</td>\n",
       "      <td>0.2722</td>\n",
       "      <td>No significant difference</td>\n",
       "    </tr>\n",
       "  </tbody>\n",
       "</table>\n",
       "</div>"
      ],
      "text/plain": [
       "  marketing_strategy  treatment_success_rate  control_success_rate  p_value  \\\n",
       "1      Cross selling                  0.1505                0.0904   0.0000   \n",
       "2          telephone                  0.2563                0.0904   0.0000   \n",
       "3           Upgrades                  0.2327                0.0904   0.0000   \n",
       "4        Loan offers                  0.1906                0.0904   0.0000   \n",
       "7       Voice blasts                  0.3588                0.0904   0.0000   \n",
       "6      SMS callbacks                  0.3066                0.0904   0.0000   \n",
       "9      Welcome calls                  0.4416                0.0904   0.0000   \n",
       "8     Festive offers                  0.4162                0.0904   0.0000   \n",
       "0           cellular                  0.0638                0.0904   0.0002   \n",
       "5      Lead followup                  0.0998                0.0904   0.2722   \n",
       "\n",
       "                      result  \n",
       "1        Better than control  \n",
       "2        Better than control  \n",
       "3        Better than control  \n",
       "4        Better than control  \n",
       "7        Better than control  \n",
       "6        Better than control  \n",
       "9        Better than control  \n",
       "8        Better than control  \n",
       "0         Worse than control  \n",
       "5  No significant difference  "
      ]
     },
     "execution_count": 226,
     "metadata": {},
     "output_type": "execute_result"
    }
   ],
   "source": [
    "ab_summary.head(15)"
   ]
  },
  {
   "cell_type": "markdown",
   "id": "092d477e",
   "metadata": {},
   "source": [
    "- **Statistical Significance**: For 9 out of 10 marketing strategies, the p-values are effectively zero (p < 0.001), so we strongly reject H₀ and conclude the treatment success rate differs from control for those methods. Only “Lead followup” fails to reach significance (p = 0.2722), so we cannot reject H₀ there. \n",
    "\n",
    "- **Direction of Effect**: Seven strategies Cross selling (0.1505 vs. 0.0904), telephone (0.2563 vs. 0.0904), Upgrades, Loan offers, SMS callbacks, Voice blasts, Festive offers, and Welcome calls—all show substantially higher treatment success rates (Δ up to ≈ 0.35) compared to control, indicating a positive lift.  \n",
    "\n",
    "- **Negative Lift for “cellular”**: Despite being highly significant (p = 0.0002), the “cellular” treatment group underperforms the control (0.0638 vs. 0.0904), demonstrating that this contact method actually reduces success rate under treatment.  \n",
    "\n",
    "- **Magnitude & Practical Significance**: The absolute differences in proportions (treatment vs control) range from -0.0266 (“cellular”) to +0.3512 (“Welcome calls”). Such effect sizes, combined with χ² tests on 2 × 2 tables (df = 1), underline both statistical and practical relevance of choosing the right contact strategy.  \n"
   ]
  },
  {
   "cell_type": "markdown",
   "id": "1cfe5606",
   "metadata": {},
   "source": [
    "### 5B. a/b test (bayesian) - marketing strategies effectiveness"
   ]
  },
  {
   "cell_type": "markdown",
   "id": "217e102d",
   "metadata": {},
   "source": [
    "* **Model Each Strategy with Beta-Binomial**: For binary outcomes (0/1), assign a Beta(1,1) prior to each `marketing_strategy`, then update with observed successes and failures to get posteriors: `Beta(1 + success, 1 + failures)`.\n",
    "\n",
    "* **Simulate Posteriors**: Draw thousands of samples from each strategy’s posterior distribution using `rvs()`, creating a Monte Carlo estimate of their underlying success probabilities.\n",
    "\n",
    "* **Estimate P(best)**: For each simulation, identify which strategy had the highest sampled rate, then compute how often each strategy “wins”, giving a direct estimate of `P(strategy is best)` rather than just testing for any difference.\n"
   ]
  },
  {
   "cell_type": "markdown",
   "id": "605b960b",
   "metadata": {},
   "source": [
    "\n",
    "- **H₀ (Null Hypothesis):**  \n",
    "  All marketing strategies have the same true conversion rate.  \n",
    "  Any observed differences in performance are due to random variation.\n",
    "- **H₁ (Alternative Hypothesis):**  \n",
    "  At least one marketing strategy has a different (typically higher) true conversion rate.  \n",
    "  Bayesian analysis estimates the probability that each strategy is the best, i.e.,  \n",
    "  **P(strategy A > strategy B)** or **P(strategy = best)** across all.\n"
   ]
  },
  {
   "cell_type": "code",
   "execution_count": 297,
   "id": "fb02e1bb",
   "metadata": {},
   "outputs": [],
   "source": [
    "treat_only = ab[ab['group'] == 'treatment']\n",
    "grouped = treat_only.groupby('marketing_strategy')['outcome']\n"
   ]
  },
  {
   "cell_type": "code",
   "execution_count": null,
   "id": "eca9818a",
   "metadata": {},
   "outputs": [],
   "source": [
    "from scipy.stats import beta\n",
    "\n",
    "posterior_distributions = {}\n",
    "\n",
    "for name, group in grouped:\n",
    "    successes = group.sum()\n",
    "    total = group.count()\n",
    "    posterior = beta(1 + successes, 1 + total - successes)\n",
    "    posterior_distributions[name] = posterior\n"
   ]
  },
  {
   "cell_type": "code",
   "execution_count": null,
   "id": "3cd684b5",
   "metadata": {},
   "outputs": [],
   "source": [
    "import numpy as np\n",
    "\n",
    "samples = 10000\n",
    "draws = {k: v.rvs(samples) for k, v in posterior_distributions.items()}"
   ]
  },
  {
   "cell_type": "code",
   "execution_count": null,
   "id": "9e99cdeb",
   "metadata": {},
   "outputs": [],
   "source": [
    "strategies = list(draws.keys())\n",
    "draw_matrix = np.array([draws[k] for k in strategies])\n",
    "\n",
    "best_counts = (draw_matrix == draw_matrix.max(axis=0)).sum(axis=1)\n",
    "prob_best = best_counts / samples\n"
   ]
  },
  {
   "cell_type": "code",
   "execution_count": null,
   "metadata": {},
   "outputs": [
    {
     "name": "stdout",
     "output_type": "stream",
     "text": [
      "Cross selling: P(best) ≈ 0.000\n",
      "Festive offers: P(best) ≈ 0.253\n",
      "Lead followup: P(best) ≈ 0.000\n",
      "Loan offers: P(best) ≈ 0.000\n",
      "SMS callbacks: P(best) ≈ 0.000\n",
      "Upgrades: P(best) ≈ 0.000\n",
      "Voice blasts: P(best) ≈ 0.003\n",
      "Welcome calls: P(best) ≈ 0.744\n",
      "cellular: P(best) ≈ 0.000\n",
      "telephone: P(best) ≈ 0.000\n"
     ]
    }
   ],
   "source": [
    "for i, strategy in enumerate(strategies):\n",
    "    print(f\"{strategy}: P(best) ≈ {prob_best[i]:.3f}\")"
   ]
  },
  {
   "cell_type": "markdown",
   "id": "1097164f",
   "metadata": {},
   "source": [
    "- **Welcome Calls dominates**: With a posterior probability of **P(best) ≈ 0.744**, it is by far the most likely to be the top-performing marketing strategy.\n",
    "\n",
    "- **Festive Offers is the only real competitor**: It holds **P(best) ≈ 0.253**, making it the only other strategy with a meaningful chance of being best.\n",
    "\n",
    "- **All others are statistically unlikely**: Every other strategy has **P(best) ≈ 0.000–0.003**, suggesting they are highly unlikely to outperform the top two.\n"
   ]
  },
  {
   "cell_type": "markdown",
   "id": "cc5c038f",
   "metadata": {},
   "source": [
    "### 5C.a/b test (pair wise Z-test) - best marketing strategy"
   ]
  },
  {
   "cell_type": "markdown",
   "id": "8640d32a",
   "metadata": {},
   "source": [
    "**Assumptions Check**\n",
    "| Assumption                         | Description (One-Liner)                                                         | Status        |\n",
    "|-----------------------------------|---------------------------------------------------------------------------------|---------------|\n",
    "| Independence of observations       | Each individual appears in only one group; no linked data                       | Valid         |\n",
    "| Binary outcome                     | Response must be a 0/1 (success/failure) variable                               | Valid         |\n",
    "| Large sample size (normal approx.) | Within each group, *n·p* and *n·(1 − p)* should both be ≥ 5                     | Valid (Chcked)   |\n",
    "| Independent groups                 | Control and treatment groups have no overlapping members                        | Valid         |\n"
   ]
  },
  {
   "cell_type": "markdown",
   "id": "f3e226e9",
   "metadata": {},
   "source": [
    "There is a statistically significant difference in **conversion rates** across most marketing strategies within the treatment group, as shown by pairwise **Z-tests for proportions**.\n",
    "\n",
    "* **Pairwise (Z-Test for Proportions)**  \n",
    "For any two strategies _i_ and _j_ (with binary outcomes):  \n",
    "- **H₀:** \\( p_i = p_j \\) (the true success rates of strategies _i_ and _j_ are equal)  \n",
    "- **H₁:** \\( p_i \\ne p_j \\) (the true success rates of strategies _i_ and _j_ are different)\n",
    "\n",
    "---\n",
    "\n",
    "- **Strong Evidence of True Differences**  \n",
    "  Nearly every pairwise Z-test returned **p-values ≪ 0.05**, leading to rejection of H₀. This indicates real, statistically significant differences in conversion performance between most strategy pairs.\n",
    "\n",
    "- **Exceptions Exist**  \n",
    "  A few comparisons, such as \"Festive offers\" vs. \"Voice blasts\" (p ≈ 0.15), showed **no significant difference**, suggesting these strategies perform similarly.\n",
    "\n",
    "- **Clear Standouts by Success Rate**  \n",
    "  Methods like **Welcome calls (0.4227)** and **Festive offers (0.4017)** consistently outperform others in both statistical significance and practical conversion lift.\n",
    "\n"
   ]
  },
  {
   "cell_type": "markdown",
   "id": "99da09fe",
   "metadata": {},
   "source": [
    "* **Z-test (Pair Wise)**"
   ]
  },
  {
   "cell_type": "code",
   "execution_count": 343,
   "id": "201d33ff",
   "metadata": {},
   "outputs": [],
   "source": [
    "from scipy.stats import norm\n",
    "\n"
   ]
  },
  {
   "cell_type": "code",
   "execution_count": null,
   "id": "ffa5b37f",
   "metadata": {},
   "outputs": [],
   "source": [
    "treat_only = ab[ab['group'] == 'treatment']\n",
    "\n",
    "grouped_outcomes = {name: group['outcome'].values for name, group in treat_only.groupby('marketing_strategy')}\n",
    "\n",
    "pairwise_z_results = []"
   ]
  },
  {
   "cell_type": "code",
   "execution_count": null,
   "id": "267e2ff4",
   "metadata": {},
   "outputs": [],
   "source": [
    "\n",
    "\n",
    "for a, b in combinations(grouped_outcomes.keys(), 2):\n",
    "    x1 = grouped_outcomes[a].sum()\n",
    "    n1 = len(grouped_outcomes[a])\n",
    "    p1 = x1 / n1\n",
    "\n",
    "    x2 = grouped_outcomes[b].sum()\n",
    "    n2 = len(grouped_outcomes[b])\n",
    "    p2 = x2 / n2\n",
    "\n",
    "    p_pool = (x1 + x2) / (n1 + n2)\n",
    "    se = (p_pool * (1 - p_pool) * (1/n1 + 1/n2))**0.5\n",
    "\n",
    "    if se == 0:\n",
    "        z = 0\n",
    "        p_val = 1.0\n",
    "    else:\n",
    "        z = (p1 - p2) / se\n",
    "        p_val = 2 * (1 - norm.cdf(abs(z)))  # two-tailed test\n",
    "\n",
    "    pairwise_z_results.append({\n",
    "        'method_1': a,\n",
    "        'method_2': b,\n",
    "        'mean_1': round(p1, 4),\n",
    "        'mean_2': round(p2, 4),\n",
    "        'p_value': round(p_val, 4)\n",
    "    })\n"
   ]
  },
  {
   "cell_type": "code",
   "execution_count": null,
   "id": "84d3a3b6",
   "metadata": {},
   "outputs": [],
   "source": [
    "pairwise_z_df = pd.DataFrame(pairwise_z_results).sort_values('p_value')"
   ]
  },
  {
   "cell_type": "code",
   "execution_count": 348,
   "id": "e705595b",
   "metadata": {},
   "outputs": [
    {
     "data": {
      "text/html": [
       "<div>\n",
       "<style scoped>\n",
       "    .dataframe tbody tr th:only-of-type {\n",
       "        vertical-align: middle;\n",
       "    }\n",
       "\n",
       "    .dataframe tbody tr th {\n",
       "        vertical-align: top;\n",
       "    }\n",
       "\n",
       "    .dataframe thead th {\n",
       "        text-align: right;\n",
       "    }\n",
       "</style>\n",
       "<table border=\"1\" class=\"dataframe\">\n",
       "  <thead>\n",
       "    <tr style=\"text-align: right;\">\n",
       "      <th></th>\n",
       "      <th>method_1</th>\n",
       "      <th>method_2</th>\n",
       "      <th>mean_1</th>\n",
       "      <th>mean_2</th>\n",
       "      <th>p_value</th>\n",
       "    </tr>\n",
       "  </thead>\n",
       "  <tbody>\n",
       "    <tr>\n",
       "      <th>0</th>\n",
       "      <td>Cross selling</td>\n",
       "      <td>Festive offers</td>\n",
       "      <td>0.1505</td>\n",
       "      <td>0.4017</td>\n",
       "      <td>0.0000</td>\n",
       "    </tr>\n",
       "    <tr>\n",
       "      <th>3</th>\n",
       "      <td>Cross selling</td>\n",
       "      <td>SMS callbacks</td>\n",
       "      <td>0.1505</td>\n",
       "      <td>0.3303</td>\n",
       "      <td>0.0000</td>\n",
       "    </tr>\n",
       "    <tr>\n",
       "      <th>5</th>\n",
       "      <td>Cross selling</td>\n",
       "      <td>Voice blasts</td>\n",
       "      <td>0.1505</td>\n",
       "      <td>0.3519</td>\n",
       "      <td>0.0000</td>\n",
       "    </tr>\n",
       "    <tr>\n",
       "      <th>4</th>\n",
       "      <td>Cross selling</td>\n",
       "      <td>Upgrades</td>\n",
       "      <td>0.1505</td>\n",
       "      <td>0.2226</td>\n",
       "      <td>0.0000</td>\n",
       "    </tr>\n",
       "    <tr>\n",
       "      <th>6</th>\n",
       "      <td>Cross selling</td>\n",
       "      <td>Welcome calls</td>\n",
       "      <td>0.1505</td>\n",
       "      <td>0.4227</td>\n",
       "      <td>0.0000</td>\n",
       "    </tr>\n",
       "    <tr>\n",
       "      <th>7</th>\n",
       "      <td>Cross selling</td>\n",
       "      <td>cellular</td>\n",
       "      <td>0.1505</td>\n",
       "      <td>0.0621</td>\n",
       "      <td>0.0000</td>\n",
       "    </tr>\n",
       "    <tr>\n",
       "      <th>9</th>\n",
       "      <td>Festive offers</td>\n",
       "      <td>Lead followup</td>\n",
       "      <td>0.4017</td>\n",
       "      <td>0.1163</td>\n",
       "      <td>0.0000</td>\n",
       "    </tr>\n",
       "    <tr>\n",
       "      <th>8</th>\n",
       "      <td>Cross selling</td>\n",
       "      <td>telephone</td>\n",
       "      <td>0.1505</td>\n",
       "      <td>0.2614</td>\n",
       "      <td>0.0000</td>\n",
       "    </tr>\n",
       "    <tr>\n",
       "      <th>15</th>\n",
       "      <td>Festive offers</td>\n",
       "      <td>cellular</td>\n",
       "      <td>0.4017</td>\n",
       "      <td>0.0621</td>\n",
       "      <td>0.0000</td>\n",
       "    </tr>\n",
       "    <tr>\n",
       "      <th>12</th>\n",
       "      <td>Festive offers</td>\n",
       "      <td>Upgrades</td>\n",
       "      <td>0.4017</td>\n",
       "      <td>0.2226</td>\n",
       "      <td>0.0000</td>\n",
       "    </tr>\n",
       "    <tr>\n",
       "      <th>10</th>\n",
       "      <td>Festive offers</td>\n",
       "      <td>Loan offers</td>\n",
       "      <td>0.4017</td>\n",
       "      <td>0.2067</td>\n",
       "      <td>0.0000</td>\n",
       "    </tr>\n",
       "    <tr>\n",
       "      <th>20</th>\n",
       "      <td>Lead followup</td>\n",
       "      <td>Voice blasts</td>\n",
       "      <td>0.1163</td>\n",
       "      <td>0.3519</td>\n",
       "      <td>0.0000</td>\n",
       "    </tr>\n",
       "    <tr>\n",
       "      <th>19</th>\n",
       "      <td>Lead followup</td>\n",
       "      <td>Upgrades</td>\n",
       "      <td>0.1163</td>\n",
       "      <td>0.2226</td>\n",
       "      <td>0.0000</td>\n",
       "    </tr>\n",
       "    <tr>\n",
       "      <th>18</th>\n",
       "      <td>Lead followup</td>\n",
       "      <td>SMS callbacks</td>\n",
       "      <td>0.1163</td>\n",
       "      <td>0.3303</td>\n",
       "      <td>0.0000</td>\n",
       "    </tr>\n",
       "    <tr>\n",
       "      <th>17</th>\n",
       "      <td>Lead followup</td>\n",
       "      <td>Loan offers</td>\n",
       "      <td>0.1163</td>\n",
       "      <td>0.2067</td>\n",
       "      <td>0.0000</td>\n",
       "    </tr>\n",
       "    <tr>\n",
       "      <th>16</th>\n",
       "      <td>Festive offers</td>\n",
       "      <td>telephone</td>\n",
       "      <td>0.4017</td>\n",
       "      <td>0.2614</td>\n",
       "      <td>0.0000</td>\n",
       "    </tr>\n",
       "    <tr>\n",
       "      <th>24</th>\n",
       "      <td>Loan offers</td>\n",
       "      <td>SMS callbacks</td>\n",
       "      <td>0.2067</td>\n",
       "      <td>0.3303</td>\n",
       "      <td>0.0000</td>\n",
       "    </tr>\n",
       "    <tr>\n",
       "      <th>26</th>\n",
       "      <td>Loan offers</td>\n",
       "      <td>Voice blasts</td>\n",
       "      <td>0.2067</td>\n",
       "      <td>0.3519</td>\n",
       "      <td>0.0000</td>\n",
       "    </tr>\n",
       "    <tr>\n",
       "      <th>27</th>\n",
       "      <td>Loan offers</td>\n",
       "      <td>Welcome calls</td>\n",
       "      <td>0.2067</td>\n",
       "      <td>0.4227</td>\n",
       "      <td>0.0000</td>\n",
       "    </tr>\n",
       "    <tr>\n",
       "      <th>28</th>\n",
       "      <td>Loan offers</td>\n",
       "      <td>cellular</td>\n",
       "      <td>0.2067</td>\n",
       "      <td>0.0621</td>\n",
       "      <td>0.0000</td>\n",
       "    </tr>\n",
       "    <tr>\n",
       "      <th>30</th>\n",
       "      <td>SMS callbacks</td>\n",
       "      <td>Upgrades</td>\n",
       "      <td>0.3303</td>\n",
       "      <td>0.2226</td>\n",
       "      <td>0.0000</td>\n",
       "    </tr>\n",
       "    <tr>\n",
       "      <th>21</th>\n",
       "      <td>Lead followup</td>\n",
       "      <td>Welcome calls</td>\n",
       "      <td>0.1163</td>\n",
       "      <td>0.4227</td>\n",
       "      <td>0.0000</td>\n",
       "    </tr>\n",
       "    <tr>\n",
       "      <th>22</th>\n",
       "      <td>Lead followup</td>\n",
       "      <td>cellular</td>\n",
       "      <td>0.1163</td>\n",
       "      <td>0.0621</td>\n",
       "      <td>0.0000</td>\n",
       "    </tr>\n",
       "    <tr>\n",
       "      <th>23</th>\n",
       "      <td>Lead followup</td>\n",
       "      <td>telephone</td>\n",
       "      <td>0.1163</td>\n",
       "      <td>0.2614</td>\n",
       "      <td>0.0000</td>\n",
       "    </tr>\n",
       "    <tr>\n",
       "      <th>40</th>\n",
       "      <td>Voice blasts</td>\n",
       "      <td>cellular</td>\n",
       "      <td>0.3519</td>\n",
       "      <td>0.0621</td>\n",
       "      <td>0.0000</td>\n",
       "    </tr>\n",
       "    <tr>\n",
       "      <th>42</th>\n",
       "      <td>Welcome calls</td>\n",
       "      <td>cellular</td>\n",
       "      <td>0.4227</td>\n",
       "      <td>0.0621</td>\n",
       "      <td>0.0000</td>\n",
       "    </tr>\n",
       "    <tr>\n",
       "      <th>43</th>\n",
       "      <td>Welcome calls</td>\n",
       "      <td>telephone</td>\n",
       "      <td>0.4227</td>\n",
       "      <td>0.2614</td>\n",
       "      <td>0.0000</td>\n",
       "    </tr>\n",
       "    <tr>\n",
       "      <th>44</th>\n",
       "      <td>cellular</td>\n",
       "      <td>telephone</td>\n",
       "      <td>0.0621</td>\n",
       "      <td>0.2614</td>\n",
       "      <td>0.0000</td>\n",
       "    </tr>\n",
       "    <tr>\n",
       "      <th>36</th>\n",
       "      <td>Upgrades</td>\n",
       "      <td>Welcome calls</td>\n",
       "      <td>0.2226</td>\n",
       "      <td>0.4227</td>\n",
       "      <td>0.0000</td>\n",
       "    </tr>\n",
       "    <tr>\n",
       "      <th>37</th>\n",
       "      <td>Upgrades</td>\n",
       "      <td>cellular</td>\n",
       "      <td>0.2226</td>\n",
       "      <td>0.0621</td>\n",
       "      <td>0.0000</td>\n",
       "    </tr>\n",
       "    <tr>\n",
       "      <th>35</th>\n",
       "      <td>Upgrades</td>\n",
       "      <td>Voice blasts</td>\n",
       "      <td>0.2226</td>\n",
       "      <td>0.3519</td>\n",
       "      <td>0.0000</td>\n",
       "    </tr>\n",
       "    <tr>\n",
       "      <th>33</th>\n",
       "      <td>SMS callbacks</td>\n",
       "      <td>cellular</td>\n",
       "      <td>0.3303</td>\n",
       "      <td>0.0621</td>\n",
       "      <td>0.0000</td>\n",
       "    </tr>\n",
       "    <tr>\n",
       "      <th>41</th>\n",
       "      <td>Voice blasts</td>\n",
       "      <td>telephone</td>\n",
       "      <td>0.3519</td>\n",
       "      <td>0.2614</td>\n",
       "      <td>0.0009</td>\n",
       "    </tr>\n",
       "    <tr>\n",
       "      <th>2</th>\n",
       "      <td>Cross selling</td>\n",
       "      <td>Loan offers</td>\n",
       "      <td>0.1505</td>\n",
       "      <td>0.2067</td>\n",
       "      <td>0.0010</td>\n",
       "    </tr>\n",
       "    <tr>\n",
       "      <th>34</th>\n",
       "      <td>SMS callbacks</td>\n",
       "      <td>telephone</td>\n",
       "      <td>0.3303</td>\n",
       "      <td>0.2614</td>\n",
       "      <td>0.0062</td>\n",
       "    </tr>\n",
       "    <tr>\n",
       "      <th>32</th>\n",
       "      <td>SMS callbacks</td>\n",
       "      <td>Welcome calls</td>\n",
       "      <td>0.3303</td>\n",
       "      <td>0.4227</td>\n",
       "      <td>0.0065</td>\n",
       "    </tr>\n",
       "    <tr>\n",
       "      <th>29</th>\n",
       "      <td>Loan offers</td>\n",
       "      <td>telephone</td>\n",
       "      <td>0.2067</td>\n",
       "      <td>0.2614</td>\n",
       "      <td>0.0098</td>\n",
       "    </tr>\n",
       "    <tr>\n",
       "      <th>1</th>\n",
       "      <td>Cross selling</td>\n",
       "      <td>Lead followup</td>\n",
       "      <td>0.1505</td>\n",
       "      <td>0.1163</td>\n",
       "      <td>0.0114</td>\n",
       "    </tr>\n",
       "    <tr>\n",
       "      <th>11</th>\n",
       "      <td>Festive offers</td>\n",
       "      <td>SMS callbacks</td>\n",
       "      <td>0.4017</td>\n",
       "      <td>0.3303</td>\n",
       "      <td>0.0300</td>\n",
       "    </tr>\n",
       "    <tr>\n",
       "      <th>39</th>\n",
       "      <td>Voice blasts</td>\n",
       "      <td>Welcome calls</td>\n",
       "      <td>0.3519</td>\n",
       "      <td>0.4227</td>\n",
       "      <td>0.0486</td>\n",
       "    </tr>\n",
       "    <tr>\n",
       "      <th>38</th>\n",
       "      <td>Upgrades</td>\n",
       "      <td>telephone</td>\n",
       "      <td>0.2226</td>\n",
       "      <td>0.2614</td>\n",
       "      <td>0.0717</td>\n",
       "    </tr>\n",
       "    <tr>\n",
       "      <th>13</th>\n",
       "      <td>Festive offers</td>\n",
       "      <td>Voice blasts</td>\n",
       "      <td>0.4017</td>\n",
       "      <td>0.3519</td>\n",
       "      <td>0.1530</td>\n",
       "    </tr>\n",
       "    <tr>\n",
       "      <th>25</th>\n",
       "      <td>Loan offers</td>\n",
       "      <td>Upgrades</td>\n",
       "      <td>0.2067</td>\n",
       "      <td>0.2226</td>\n",
       "      <td>0.4365</td>\n",
       "    </tr>\n",
       "    <tr>\n",
       "      <th>31</th>\n",
       "      <td>SMS callbacks</td>\n",
       "      <td>Voice blasts</td>\n",
       "      <td>0.3303</td>\n",
       "      <td>0.3519</td>\n",
       "      <td>0.4793</td>\n",
       "    </tr>\n",
       "    <tr>\n",
       "      <th>14</th>\n",
       "      <td>Festive offers</td>\n",
       "      <td>Welcome calls</td>\n",
       "      <td>0.4017</td>\n",
       "      <td>0.4227</td>\n",
       "      <td>0.5835</td>\n",
       "    </tr>\n",
       "  </tbody>\n",
       "</table>\n",
       "</div>"
      ],
      "text/plain": [
       "          method_1        method_2  mean_1  mean_2  p_value\n",
       "0    Cross selling  Festive offers  0.1505  0.4017   0.0000\n",
       "3    Cross selling   SMS callbacks  0.1505  0.3303   0.0000\n",
       "5    Cross selling    Voice blasts  0.1505  0.3519   0.0000\n",
       "4    Cross selling        Upgrades  0.1505  0.2226   0.0000\n",
       "6    Cross selling   Welcome calls  0.1505  0.4227   0.0000\n",
       "7    Cross selling        cellular  0.1505  0.0621   0.0000\n",
       "9   Festive offers   Lead followup  0.4017  0.1163   0.0000\n",
       "8    Cross selling       telephone  0.1505  0.2614   0.0000\n",
       "15  Festive offers        cellular  0.4017  0.0621   0.0000\n",
       "12  Festive offers        Upgrades  0.4017  0.2226   0.0000\n",
       "10  Festive offers     Loan offers  0.4017  0.2067   0.0000\n",
       "20   Lead followup    Voice blasts  0.1163  0.3519   0.0000\n",
       "19   Lead followup        Upgrades  0.1163  0.2226   0.0000\n",
       "18   Lead followup   SMS callbacks  0.1163  0.3303   0.0000\n",
       "17   Lead followup     Loan offers  0.1163  0.2067   0.0000\n",
       "16  Festive offers       telephone  0.4017  0.2614   0.0000\n",
       "24     Loan offers   SMS callbacks  0.2067  0.3303   0.0000\n",
       "26     Loan offers    Voice blasts  0.2067  0.3519   0.0000\n",
       "27     Loan offers   Welcome calls  0.2067  0.4227   0.0000\n",
       "28     Loan offers        cellular  0.2067  0.0621   0.0000\n",
       "30   SMS callbacks        Upgrades  0.3303  0.2226   0.0000\n",
       "21   Lead followup   Welcome calls  0.1163  0.4227   0.0000\n",
       "22   Lead followup        cellular  0.1163  0.0621   0.0000\n",
       "23   Lead followup       telephone  0.1163  0.2614   0.0000\n",
       "40    Voice blasts        cellular  0.3519  0.0621   0.0000\n",
       "42   Welcome calls        cellular  0.4227  0.0621   0.0000\n",
       "43   Welcome calls       telephone  0.4227  0.2614   0.0000\n",
       "44        cellular       telephone  0.0621  0.2614   0.0000\n",
       "36        Upgrades   Welcome calls  0.2226  0.4227   0.0000\n",
       "37        Upgrades        cellular  0.2226  0.0621   0.0000\n",
       "35        Upgrades    Voice blasts  0.2226  0.3519   0.0000\n",
       "33   SMS callbacks        cellular  0.3303  0.0621   0.0000\n",
       "41    Voice blasts       telephone  0.3519  0.2614   0.0009\n",
       "2    Cross selling     Loan offers  0.1505  0.2067   0.0010\n",
       "34   SMS callbacks       telephone  0.3303  0.2614   0.0062\n",
       "32   SMS callbacks   Welcome calls  0.3303  0.4227   0.0065\n",
       "29     Loan offers       telephone  0.2067  0.2614   0.0098\n",
       "1    Cross selling   Lead followup  0.1505  0.1163   0.0114\n",
       "11  Festive offers   SMS callbacks  0.4017  0.3303   0.0300\n",
       "39    Voice blasts   Welcome calls  0.3519  0.4227   0.0486\n",
       "38        Upgrades       telephone  0.2226  0.2614   0.0717\n",
       "13  Festive offers    Voice blasts  0.4017  0.3519   0.1530\n",
       "25     Loan offers        Upgrades  0.2067  0.2226   0.4365\n",
       "31   SMS callbacks    Voice blasts  0.3303  0.3519   0.4793\n",
       "14  Festive offers   Welcome calls  0.4017  0.4227   0.5835"
      ]
     },
     "execution_count": 348,
     "metadata": {},
     "output_type": "execute_result"
    }
   ],
   "source": [
    "pairwise_z_df.head(50)"
   ]
  },
  {
   "cell_type": "markdown",
   "id": "d051b729",
   "metadata": {},
   "source": [
    "- **Strong statistical separation**: Most pairwise Z-tests yield p-values < 0.001, indicating significant differences in success rates across strategies.  \n",
    "- **Welcome calls leads**: It consistently outperforms others in both mean conversion and statistical comparison, making it the top-performing strategy.  \n",
    "- **Low performers identified**: Strategies like **cellular** and **telephone** show much lower success rates, with almost no probability of being the best.\n"
   ]
  },
  {
   "cell_type": "markdown",
   "id": "5a898e63",
   "metadata": {},
   "source": [
    "# 7. a/b tests (Non - Parametric), Assmuptions (NA)"
   ]
  },
  {
   "cell_type": "markdown",
   "id": "433a6874",
   "metadata": {},
   "source": [
    "\n",
    "---\n",
    "\n",
    "#### 1. **Control vs. Treatment Outcome Comparison**  \n",
    "**Test:** **Fisher’s Exact Test**  \n",
    "- **Why:** Suitable for 2×2 contingency tables with binary outcomes and small sample sizes.  \n",
    "- **Use Case:** Tests if the **proportion of success (outcome = 1)** is significantly different between `group == control` and `group == treatment`.  \n",
    "\n",
    "---\n"
   ]
  },
  {
   "cell_type": "markdown",
   "id": "53fee7de",
   "metadata": {},
   "source": [
    "**Hypotheses – Fisher's Exact Test**\n",
    "\n",
    "- **H₀ (Null Hypothesis):** Conversion rates are the same in treatment and control groups.  \n",
    "- **H₁ (Alternative Hypothesis):** Conversion rates differ between treatment and control groups.\n"
   ]
  },
  {
   "cell_type": "code",
   "execution_count": 361,
   "id": "a078c0fc",
   "metadata": {},
   "outputs": [
    {
     "data": {
      "text/html": [
       "<div>\n",
       "<style scoped>\n",
       "    .dataframe tbody tr th:only-of-type {\n",
       "        vertical-align: middle;\n",
       "    }\n",
       "\n",
       "    .dataframe tbody tr th {\n",
       "        vertical-align: top;\n",
       "    }\n",
       "\n",
       "    .dataframe thead th {\n",
       "        text-align: right;\n",
       "    }\n",
       "</style>\n",
       "<table border=\"1\" class=\"dataframe\">\n",
       "  <thead>\n",
       "    <tr style=\"text-align: right;\">\n",
       "      <th></th>\n",
       "      <th>group</th>\n",
       "      <th>marketing_strategy</th>\n",
       "      <th>outcome</th>\n",
       "    </tr>\n",
       "  </thead>\n",
       "  <tbody>\n",
       "    <tr>\n",
       "      <th>0</th>\n",
       "      <td>control</td>\n",
       "      <td>cellular</td>\n",
       "      <td>0</td>\n",
       "    </tr>\n",
       "    <tr>\n",
       "      <th>1</th>\n",
       "      <td>control</td>\n",
       "      <td>cellular</td>\n",
       "      <td>0</td>\n",
       "    </tr>\n",
       "    <tr>\n",
       "      <th>2</th>\n",
       "      <td>control</td>\n",
       "      <td>Cross selling</td>\n",
       "      <td>0</td>\n",
       "    </tr>\n",
       "    <tr>\n",
       "      <th>3</th>\n",
       "      <td>control</td>\n",
       "      <td>cellular</td>\n",
       "      <td>0</td>\n",
       "    </tr>\n",
       "    <tr>\n",
       "      <th>4</th>\n",
       "      <td>control</td>\n",
       "      <td>telephone</td>\n",
       "      <td>0</td>\n",
       "    </tr>\n",
       "  </tbody>\n",
       "</table>\n",
       "</div>"
      ],
      "text/plain": [
       "     group marketing_strategy  outcome\n",
       "0  control           cellular        0\n",
       "1  control           cellular        0\n",
       "2  control      Cross selling        0\n",
       "3  control           cellular        0\n",
       "4  control          telephone        0"
      ]
     },
     "execution_count": 361,
     "metadata": {},
     "output_type": "execute_result"
    }
   ],
   "source": [
    "ab.head()"
   ]
  },
  {
   "cell_type": "code",
   "execution_count": 362,
   "id": "5004bec1",
   "metadata": {},
   "outputs": [],
   "source": [
    "from scipy.stats import fisher_exact"
   ]
  },
  {
   "cell_type": "code",
   "execution_count": null,
   "id": "0a535a78",
   "metadata": {},
   "outputs": [],
   "source": [
    "contingency = pd.crosstab(ab['group'], ab['outcome'])\n",
    "\n",
    "treatment_success = contingency.loc['treatment', 1]\n",
    "treatment_fail = contingency.loc['treatment', 0]\n",
    "control_success = contingency.loc['control', 1]\n",
    "control_fail = contingency.loc['control', 0]\n",
    "\n",
    "table = [[treatment_success, treatment_fail],\n",
    "         [control_success, control_fail]]"
   ]
  },
  {
   "cell_type": "code",
   "execution_count": null,
   "id": "ef3f3b2c",
   "metadata": {},
   "outputs": [
    {
     "name": "stdout",
     "output_type": "stream",
     "text": [
      "Fisher's Exact Test Results\n",
      "Contingency Table: [[np.int64(1598), np.int64(6654)], [np.int64(3340), np.int64(33619)]]\n",
      "Odds Ratio: 2.4173\n",
      "P-Value: 0.0000\n"
     ]
    }
   ],
   "source": [
    "odds_ratio, p_value = fisher_exact(table, alternative='two-sided')\n",
    "\n",
    "print(\"Fisher's Exact Test Results\")\n",
    "print(f\"Contingency Table: {table}\")\n",
    "print(f\"Odds Ratio: {odds_ratio:.4f}\")\n",
    "print(f\"P-Value: {p_value:.4f}\")"
   ]
  },
  {
   "cell_type": "markdown",
   "id": "6e8272fe",
   "metadata": {},
   "source": [
    "- **Significant difference**: p-value = 0.0000, reject null hypothesis.  \n",
    "- **Treatment effective**: odds ratio = 2.42,treatment group converts more.  \n",
    "- **Conclusion**: Marketing Strategy increases likelihood of conversion.\n"
   ]
  },
  {
   "cell_type": "markdown",
   "id": "22c75531",
   "metadata": {},
   "source": [
    "#### 2. **Comparing Outcome Across Multiple Marketing Strategies (Within Treatment)** \n"
   ]
  },
  {
   "cell_type": "markdown",
   "id": "877b8024",
   "metadata": {},
   "source": [
    "\n",
    "---\n",
    "### Hypotheses – Kruskal–Wallis H-Test\n",
    "\n",
    "- **H₀ (Null Hypothesis):** All marketing strategies have the same distribution of conversion outcomes.  \n",
    "- **H₁ (Alternative Hypothesis):** At least one marketing strategy has a different distribution of conversion outcomes.\n",
    "---\n",
    "**Test:** **Kruskal–Wallis Test**  \n",
    "- **Why:** Non-parametric alternative to one-way ANOVA for comparing **3 or more groups** with ordinal or non-normal data.  \n",
    "- **Use Case:** Tests if the **distribution of outcome** differs across all `marketing_strategy` values **within the treatment group**.  \n",
    "- **Note:** Can be applied even when `outcome` is binary, interpreted in terms of ranks.\n",
    "\n",
    "---\n"
   ]
  },
  {
   "cell_type": "code",
   "execution_count": 366,
   "id": "73276a60",
   "metadata": {},
   "outputs": [],
   "source": [
    "from scipy.stats import kruskal\n"
   ]
  },
  {
   "cell_type": "code",
   "execution_count": null,
   "id": "1044715e",
   "metadata": {},
   "outputs": [],
   "source": [
    "treat_only = ab[ab['group'] == 'treatment']"
   ]
  },
  {
   "cell_type": "code",
   "execution_count": null,
   "id": "d4087431",
   "metadata": {},
   "outputs": [],
   "source": [
    "grouped = [group['outcome'].values for name, group in treat_only.groupby('marketing_strategy')]"
   ]
  },
  {
   "cell_type": "code",
   "execution_count": null,
   "metadata": {},
   "outputs": [],
   "source": [
    "stat, p_value = kruskal(*grouped)"
   ]
  },
  {
   "cell_type": "code",
   "execution_count": 370,
   "id": "8083e4f4",
   "metadata": {},
   "outputs": [
    {
     "name": "stdout",
     "output_type": "stream",
     "text": [
      "Kruskal–Wallis H-Test Results\n",
      "H-statistic: 616.9131\n",
      "P-Value: 0.0000\n"
     ]
    }
   ],
   "source": [
    "print(\"Kruskal–Wallis H-Test Results\")\n",
    "print(f\"H-statistic: {stat:.4f}\")\n",
    "print(f\"P-Value: {p_value:.4f}\")"
   ]
  },
  {
   "cell_type": "markdown",
   "id": "ed3d30ec",
   "metadata": {},
   "source": [
    "- **Statistically significant**: p-value = 0.0000, reject the null hypothesis.  \n",
    "- **Variation exists**: At least one marketing strategy differs in conversion rate.  \n",
    "- **Next step**: Perform pairwise comparisons to identify which strategies differ.\n"
   ]
  },
  {
   "cell_type": "markdown",
   "id": "25d38ad6",
   "metadata": {},
   "source": [
    "#### 3. **Best Marketing Strategy – Pairwise Comparisons**  "
   ]
  },
  {
   "cell_type": "markdown",
   "id": "2824e817",
   "metadata": {},
   "source": [
    "**Hypotheses**\n",
    "\n",
    "- **H₀ (Null Hypothesis):** The distribution of conversion outcomes is the same for both marketing strategies being compared.  \n",
    "- **H₁ (Alternative Hypothesis):** One marketing strategy has a statistically significantly higher distribution of conversion outcomes than the other.\n",
    "\n",
    "\n",
    "**Test:** **Mann–Whitney U Test (Wilcoxon rank-sum)**  \n",
    "- **Why:** Non-parametric alternative to independent t-test; compares medians/ranks between two strategies.  \n",
    "- **Use Case:** Conduct **pairwise comparisons** between marketing strategies (within treatment group) to find significant differences and identify the most effective one.\n",
    "\n",
    "---"
   ]
  },
  {
   "cell_type": "code",
   "execution_count": 371,
   "id": "e981caeb",
   "metadata": {},
   "outputs": [],
   "source": [
    "from scipy.stats import mannwhitneyu"
   ]
  },
  {
   "cell_type": "code",
   "execution_count": null,
   "metadata": {},
   "outputs": [],
   "source": [
    "treat_only = ab[ab['group'] == 'treatment']\n",
    "\n",
    "grouped = treat_only.groupby('marketing_strategy')['outcome'].apply(list)\n"
   ]
  },
  {
   "cell_type": "code",
   "execution_count": null,
   "metadata": {},
   "outputs": [],
   "source": [
    "win_counts = {strategy: 0 for strategy in grouped.index}\n",
    "\n",
    "results = []"
   ]
  },
  {
   "cell_type": "code",
   "execution_count": null,
   "id": "ab3e21a0",
   "metadata": {},
   "outputs": [],
   "source": [
    "for a, b in combinations(grouped.index, 2):\n",
    "    outcomes_a = grouped[a]\n",
    "    outcomes_b = grouped[b]\n",
    "\n",
    "    stat_ab, p_ab = mannwhitneyu(outcomes_a, outcomes_b, alternative='greater')\n",
    "    if p_ab < 0.05:\n",
    "        win_counts[a] += 1\n",
    "\n",
    "    stat_ba, p_ba = mannwhitneyu(outcomes_b, outcomes_a, alternative='greater')\n",
    "    if p_ba < 0.05:\n",
    "        win_counts[b] += 1\n"
   ]
  },
  {
   "cell_type": "code",
   "execution_count": null,
   "id": "df33f259",
   "metadata": {},
   "outputs": [],
   "source": [
    "win_df = pd.DataFrame(win_counts.items(), columns=['marketing_strategy', 'wins'])\n",
    "win_df = win_df.sort_values('wins', ascending=False)"
   ]
  },
  {
   "cell_type": "code",
   "execution_count": 377,
   "id": "854a6ee8",
   "metadata": {},
   "outputs": [
    {
     "name": "stdout",
     "output_type": "stream",
     "text": [
      "Best strategies by number of statistically significant wins:\n",
      "  marketing_strategy  wins\n",
      "7      Welcome calls     8\n",
      "1     Festive offers     7\n",
      "6       Voice blasts     6\n",
      "4      SMS callbacks     6\n",
      "9          telephone     5\n",
      "3        Loan offers     3\n",
      "5           Upgrades     3\n",
      "0      Cross selling     2\n",
      "2      Lead followup     1\n",
      "8           cellular     0\n"
     ]
    }
   ],
   "source": [
    "print(\"Best strategies by number of statistically significant wins:\")\n",
    "print(win_df)"
   ]
  },
  {
   "cell_type": "markdown",
   "id": "6e82e9aa",
   "metadata": {},
   "source": [
    "- **Welcome calls is the top performer**, winning 8 out of all pairwise comparisons with statistically significant better outcomes.  \n",
    "- **Festive offers** and **Voice blasts** also showed strong performance, ranking just behind the leader.  \n",
    "- **Cellular** had 0 wins, indicating the weakest relative performance across all strategies.\n"
   ]
  },
  {
   "cell_type": "markdown",
   "id": "0d4a3d10",
   "metadata": {},
   "source": [
    "# 8. a/b tests (Parametric), Assmuptions (Partially Valid)"
   ]
  },
  {
   "cell_type": "markdown",
   "id": "267e7e04",
   "metadata": {},
   "source": [
    "### Rationale \n",
    "\n",
    "* **Tests are often robust** : Many tests like ANOVA still work well even if assumptions are mildly violated.\n",
    "* **Decisions > Perfection** : In practice, we can't wait for ideal conditions; insights must drive action.\n",
    "* **Use backups wisely** : Visual checks, non-parametric tests, or bootstrapping help when assumptions are shaky.\n",
    "* **Focus on value** : The goal is meaningful, actionable results, not statistical perfection."
   ]
  },
  {
   "cell_type": "markdown",
   "id": "38a8d8de",
   "metadata": {},
   "source": [
    "## a/b test (one-way ANOVA) - marketing strategies effectiveness"
   ]
  },
  {
   "cell_type": "markdown",
   "id": "dd2d7427",
   "metadata": {},
   "source": [
    "**Applying ANOVA Despite Assumption Violations**\n",
    "\n",
    "* While both **normality** and **equal variance** assumptions are violated, applying One-Way ANOVA on a large sample binary outcome can still yield **reasonable and interpretable results** due to the Central Limit Theorem.  \n",
    "\n",
    "* However, results should be interpreted **with caution**, especially p-values and ideally validated using more appropriate methods like **chi-square tests** or **logistic regression**, which are designed for binary data.\n"
   ]
  },
  {
   "cell_type": "markdown",
   "id": "30f26cbd",
   "metadata": {},
   "source": [
    "**Overall (One‐Way Comparison)**  \n",
    "- **H₀:** All treatment groups (by marketing strategy) have the same mean conversion rate  \n",
    "- **H₁:** At least one treatment group’s mean conversion rate differs from the others  "
   ]
  },
  {
   "cell_type": "markdown",
   "id": "ad2ab828",
   "metadata": {},
   "source": [
    "- **Goal**: Determine if treatment success rates vary by marketing strategy.  \n",
    "- **Method**: One‐way ANOVA splits total variance into between‐strategy vs. within‐strategy components, producing an F‐statistic and p‐value via `f_oneway()`.  \n",
    "- **Result**: F = 79.55, p ≪ 0.001 → reject H₀; at least one strategy’s mean differs significantly.\n",
    "- **Practical Implication**: Since at least one marketing strategy’s success rate differs from the others, you should proceed to post-hoc comparisons (e.g., Tukey HSD) to pinpoint which specific pairs of strategies drive this effect.    \n",
    "- **Next Step**: Conduct post‐hoc tests (e.g. Tukey HSD) to identify which strategy pairs diverge.  "
   ]
  },
  {
   "cell_type": "code",
   "execution_count": 296,
   "id": "4ae5cd59",
   "metadata": {},
   "outputs": [
    {
     "data": {
      "text/html": [
       "<div>\n",
       "<style scoped>\n",
       "    .dataframe tbody tr th:only-of-type {\n",
       "        vertical-align: middle;\n",
       "    }\n",
       "\n",
       "    .dataframe tbody tr th {\n",
       "        vertical-align: top;\n",
       "    }\n",
       "\n",
       "    .dataframe thead th {\n",
       "        text-align: right;\n",
       "    }\n",
       "</style>\n",
       "<table border=\"1\" class=\"dataframe\">\n",
       "  <thead>\n",
       "    <tr style=\"text-align: right;\">\n",
       "      <th></th>\n",
       "      <th>group</th>\n",
       "      <th>marketing_strategy</th>\n",
       "      <th>outcome</th>\n",
       "    </tr>\n",
       "  </thead>\n",
       "  <tbody>\n",
       "    <tr>\n",
       "      <th>0</th>\n",
       "      <td>control</td>\n",
       "      <td>cellular</td>\n",
       "      <td>0</td>\n",
       "    </tr>\n",
       "    <tr>\n",
       "      <th>1</th>\n",
       "      <td>control</td>\n",
       "      <td>cellular</td>\n",
       "      <td>0</td>\n",
       "    </tr>\n",
       "    <tr>\n",
       "      <th>2</th>\n",
       "      <td>control</td>\n",
       "      <td>Cross selling</td>\n",
       "      <td>0</td>\n",
       "    </tr>\n",
       "    <tr>\n",
       "      <th>3</th>\n",
       "      <td>control</td>\n",
       "      <td>cellular</td>\n",
       "      <td>0</td>\n",
       "    </tr>\n",
       "    <tr>\n",
       "      <th>4</th>\n",
       "      <td>control</td>\n",
       "      <td>telephone</td>\n",
       "      <td>0</td>\n",
       "    </tr>\n",
       "  </tbody>\n",
       "</table>\n",
       "</div>"
      ],
      "text/plain": [
       "     group marketing_strategy  outcome\n",
       "0  control           cellular        0\n",
       "1  control           cellular        0\n",
       "2  control      Cross selling        0\n",
       "3  control           cellular        0\n",
       "4  control          telephone        0"
      ]
     },
     "execution_count": 296,
     "metadata": {},
     "output_type": "execute_result"
    }
   ],
   "source": [
    "ab.head()"
   ]
  },
  {
   "cell_type": "code",
   "execution_count": 228,
   "id": "18fe925e",
   "metadata": {},
   "outputs": [],
   "source": [
    "treat_only = ab[ab['group'] == 'treatment']\n"
   ]
  },
  {
   "cell_type": "code",
   "execution_count": 229,
   "id": "27a7969b",
   "metadata": {},
   "outputs": [
    {
     "data": {
      "text/plain": [
       "marketing_strategy\n",
       "Cross selling     0.150520\n",
       "Festive offers    0.416185\n",
       "Lead followup     0.099764\n",
       "Loan offers       0.190594\n",
       "SMS callbacks     0.306569\n",
       "Upgrades          0.232704\n",
       "Voice blasts      0.358796\n",
       "Welcome calls     0.441640\n",
       "cellular          0.063830\n",
       "telephone         0.256313\n",
       "Name: outcome, dtype: float64"
      ]
     },
     "execution_count": 229,
     "metadata": {},
     "output_type": "execute_result"
    }
   ],
   "source": [
    "treat_only.groupby('marketing_strategy')['outcome'].mean()"
   ]
  },
  {
   "cell_type": "code",
   "execution_count": 231,
   "id": "027ff0e2",
   "metadata": {},
   "outputs": [
    {
     "name": "stdout",
     "output_type": "stream",
     "text": [
      "F-statistic: 79.5517, p-value: 0.0000\n"
     ]
    }
   ],
   "source": [
    "from scipy.stats import f_oneway\n",
    "\n",
    "grouped = [group['outcome'].values for name, group in treat_only.groupby('marketing_strategy')]\n",
    "\n",
    "f_stat, p_value = f_oneway(*grouped)\n",
    "print(f\"F-statistic: {f_stat:.4f}, p-value: {p_value:.4f}\")\n"
   ]
  },
  {
   "cell_type": "markdown",
   "id": "ed6d3722",
   "metadata": {},
   "source": [
    "\n",
    "- **Welcome calls** dominates with a 74.4% probability of being the best-performing marketing strategy.  \n",
    "- **Festive offers** is the only viable alternative, with a 25.3% chance of being the top strategy.  \n",
    "- All other strategies have near-zero probability, making them statistically unlikely to outperform the top two.\n",
    "---"
   ]
  },
  {
   "cell_type": "markdown",
   "id": "e4f5ad1e",
   "metadata": {},
   "source": [
    "## a/b test (pairwise t-test) - best marketing strategy"
   ]
  },
  {
   "cell_type": "markdown",
   "id": "cf7cb0ab",
   "metadata": {},
   "source": [
    "| Assumption                   | Description (One-Liner)                                              | Status      |\n",
    "|------------------------------|-----------------------------------------------------------------------|-------------|\n",
    "| Independence of observations| No repeated or linked data within or across groups                   | Valid       |\n",
    "| Normality of distribution    | Outcome in each group should be approximately normal                 | Violated  |\n",
    "| Equal variances              | Group variances should be similar (only if using Student’s t-test)   | Valid (using Welch's) |\n",
    "| Continuous outcome           | Outcome should be continuous, not binary                             | Violated    |\n"
   ]
  },
  {
   "cell_type": "markdown",
   "id": "be018160",
   "metadata": {},
   "source": [
    "**Hypotheses for Pairwise t-Tests (Mean Comparison)**\n",
    "\n",
    "- **H₀ (Null Hypothesis):**  \n",
    "  The mean success rates of marketing strategy _i_ and strategy _j_ are equal.  \n",
    "\n",
    "- **H₁ (Alternative Hypothesis):**  \n",
    "  The mean success rates of marketing strategy _i_ and strategy _j_ are not equal.  \n",
    "\n",
    "→ If p-value < 0.05, we reject H₀ and conclude there's a statistically significant difference in performance between the two strategies.\n"
   ]
  },
  {
   "cell_type": "markdown",
   "id": "698be935",
   "metadata": {},
   "source": [
    "- **Purpose:** Compare average success rates between each pair of marketing strategies within the treatment group using Welch’s t-test, which allows for unequal variances.\n",
    "\n",
    "- **Method:** For every unique strategy pair, compute means and run `ttest_ind(..., equal_var=False)` to get a p-value indicating if the difference is statistically significant.\n",
    "\n",
    "- **Insight:** Strategy pairs with p-values < 0.05 suggest meaningful performance differences, guiding which strategies outperform others.\n"
   ]
  },
  {
   "cell_type": "code",
   "execution_count": null,
   "id": "d1fd99dd",
   "metadata": {},
   "outputs": [],
   "source": [
    "import pandas as pd\n",
    "from scipy.stats import ttest_ind\n"
   ]
  },
  {
   "cell_type": "code",
   "execution_count": null,
   "id": "ad4e8996",
   "metadata": {},
   "outputs": [],
   "source": [
    "treat_only = ab[ab['group'] == 'treatment']\n",
    "\n",
    "grouped_outcomes = {name: group['outcome'].values for name, group in treat_only.groupby('marketing_strategy')}\n",
    "\n",
    "pairwise_ttest_results = []"
   ]
  },
  {
   "cell_type": "code",
   "execution_count": null,
   "id": "ff1fcf09",
   "metadata": {},
   "outputs": [],
   "source": [
    "\n",
    "\n",
    "for a, b in combinations(grouped_outcomes.keys(), 2):\n",
    "    outcomes_a = grouped_outcomes[a]\n",
    "    outcomes_b = grouped_outcomes[b]\n",
    "\n",
    "    t_stat, p_val = ttest_ind(outcomes_a, outcomes_b, equal_var=False)\n",
    "\n",
    "    pairwise_ttest_results.append({\n",
    "        'method_1': a,\n",
    "        'method_2': b,\n",
    "        'mean_1': round(outcomes_a.mean(), 4),\n",
    "        'mean_2': round(outcomes_b.mean(), 4),\n",
    "        'p_value': round(p_val, 4)\n",
    "    })\n",
    "\n"
   ]
  },
  {
   "cell_type": "code",
   "execution_count": null,
   "id": "567e6d0b",
   "metadata": {},
   "outputs": [],
   "source": [
    "pairwise_ttest_df = pd.DataFrame(pairwise_ttest_results).sort_values('p_value')\n"
   ]
  },
  {
   "cell_type": "code",
   "execution_count": 359,
   "id": "0e6121b3",
   "metadata": {},
   "outputs": [
    {
     "data": {
      "text/html": [
       "<div>\n",
       "<style scoped>\n",
       "    .dataframe tbody tr th:only-of-type {\n",
       "        vertical-align: middle;\n",
       "    }\n",
       "\n",
       "    .dataframe tbody tr th {\n",
       "        vertical-align: top;\n",
       "    }\n",
       "\n",
       "    .dataframe thead th {\n",
       "        text-align: right;\n",
       "    }\n",
       "</style>\n",
       "<table border=\"1\" class=\"dataframe\">\n",
       "  <thead>\n",
       "    <tr style=\"text-align: right;\">\n",
       "      <th></th>\n",
       "      <th>method_1</th>\n",
       "      <th>method_2</th>\n",
       "      <th>mean_1</th>\n",
       "      <th>mean_2</th>\n",
       "      <th>p_value</th>\n",
       "    </tr>\n",
       "  </thead>\n",
       "  <tbody>\n",
       "    <tr>\n",
       "      <th>0</th>\n",
       "      <td>Cross selling</td>\n",
       "      <td>Festive offers</td>\n",
       "      <td>0.1505</td>\n",
       "      <td>0.4017</td>\n",
       "      <td>0.0000</td>\n",
       "    </tr>\n",
       "    <tr>\n",
       "      <th>3</th>\n",
       "      <td>Cross selling</td>\n",
       "      <td>SMS callbacks</td>\n",
       "      <td>0.1505</td>\n",
       "      <td>0.3303</td>\n",
       "      <td>0.0000</td>\n",
       "    </tr>\n",
       "    <tr>\n",
       "      <th>6</th>\n",
       "      <td>Cross selling</td>\n",
       "      <td>Welcome calls</td>\n",
       "      <td>0.1505</td>\n",
       "      <td>0.4227</td>\n",
       "      <td>0.0000</td>\n",
       "    </tr>\n",
       "    <tr>\n",
       "      <th>5</th>\n",
       "      <td>Cross selling</td>\n",
       "      <td>Voice blasts</td>\n",
       "      <td>0.1505</td>\n",
       "      <td>0.3519</td>\n",
       "      <td>0.0000</td>\n",
       "    </tr>\n",
       "    <tr>\n",
       "      <th>7</th>\n",
       "      <td>Cross selling</td>\n",
       "      <td>cellular</td>\n",
       "      <td>0.1505</td>\n",
       "      <td>0.0621</td>\n",
       "      <td>0.0000</td>\n",
       "    </tr>\n",
       "    <tr>\n",
       "      <th>10</th>\n",
       "      <td>Festive offers</td>\n",
       "      <td>Loan offers</td>\n",
       "      <td>0.4017</td>\n",
       "      <td>0.2067</td>\n",
       "      <td>0.0000</td>\n",
       "    </tr>\n",
       "    <tr>\n",
       "      <th>9</th>\n",
       "      <td>Festive offers</td>\n",
       "      <td>Lead followup</td>\n",
       "      <td>0.4017</td>\n",
       "      <td>0.1163</td>\n",
       "      <td>0.0000</td>\n",
       "    </tr>\n",
       "    <tr>\n",
       "      <th>8</th>\n",
       "      <td>Cross selling</td>\n",
       "      <td>telephone</td>\n",
       "      <td>0.1505</td>\n",
       "      <td>0.2614</td>\n",
       "      <td>0.0000</td>\n",
       "    </tr>\n",
       "    <tr>\n",
       "      <th>15</th>\n",
       "      <td>Festive offers</td>\n",
       "      <td>cellular</td>\n",
       "      <td>0.4017</td>\n",
       "      <td>0.0621</td>\n",
       "      <td>0.0000</td>\n",
       "    </tr>\n",
       "    <tr>\n",
       "      <th>12</th>\n",
       "      <td>Festive offers</td>\n",
       "      <td>Upgrades</td>\n",
       "      <td>0.4017</td>\n",
       "      <td>0.2226</td>\n",
       "      <td>0.0000</td>\n",
       "    </tr>\n",
       "    <tr>\n",
       "      <th>21</th>\n",
       "      <td>Lead followup</td>\n",
       "      <td>Welcome calls</td>\n",
       "      <td>0.1163</td>\n",
       "      <td>0.4227</td>\n",
       "      <td>0.0000</td>\n",
       "    </tr>\n",
       "    <tr>\n",
       "      <th>20</th>\n",
       "      <td>Lead followup</td>\n",
       "      <td>Voice blasts</td>\n",
       "      <td>0.1163</td>\n",
       "      <td>0.3519</td>\n",
       "      <td>0.0000</td>\n",
       "    </tr>\n",
       "    <tr>\n",
       "      <th>19</th>\n",
       "      <td>Lead followup</td>\n",
       "      <td>Upgrades</td>\n",
       "      <td>0.1163</td>\n",
       "      <td>0.2226</td>\n",
       "      <td>0.0000</td>\n",
       "    </tr>\n",
       "    <tr>\n",
       "      <th>18</th>\n",
       "      <td>Lead followup</td>\n",
       "      <td>SMS callbacks</td>\n",
       "      <td>0.1163</td>\n",
       "      <td>0.3303</td>\n",
       "      <td>0.0000</td>\n",
       "    </tr>\n",
       "    <tr>\n",
       "      <th>17</th>\n",
       "      <td>Lead followup</td>\n",
       "      <td>Loan offers</td>\n",
       "      <td>0.1163</td>\n",
       "      <td>0.2067</td>\n",
       "      <td>0.0000</td>\n",
       "    </tr>\n",
       "    <tr>\n",
       "      <th>16</th>\n",
       "      <td>Festive offers</td>\n",
       "      <td>telephone</td>\n",
       "      <td>0.4017</td>\n",
       "      <td>0.2614</td>\n",
       "      <td>0.0000</td>\n",
       "    </tr>\n",
       "    <tr>\n",
       "      <th>24</th>\n",
       "      <td>Loan offers</td>\n",
       "      <td>SMS callbacks</td>\n",
       "      <td>0.2067</td>\n",
       "      <td>0.3303</td>\n",
       "      <td>0.0000</td>\n",
       "    </tr>\n",
       "    <tr>\n",
       "      <th>26</th>\n",
       "      <td>Loan offers</td>\n",
       "      <td>Voice blasts</td>\n",
       "      <td>0.2067</td>\n",
       "      <td>0.3519</td>\n",
       "      <td>0.0000</td>\n",
       "    </tr>\n",
       "    <tr>\n",
       "      <th>27</th>\n",
       "      <td>Loan offers</td>\n",
       "      <td>Welcome calls</td>\n",
       "      <td>0.2067</td>\n",
       "      <td>0.4227</td>\n",
       "      <td>0.0000</td>\n",
       "    </tr>\n",
       "    <tr>\n",
       "      <th>28</th>\n",
       "      <td>Loan offers</td>\n",
       "      <td>cellular</td>\n",
       "      <td>0.2067</td>\n",
       "      <td>0.0621</td>\n",
       "      <td>0.0000</td>\n",
       "    </tr>\n",
       "    <tr>\n",
       "      <th>30</th>\n",
       "      <td>SMS callbacks</td>\n",
       "      <td>Upgrades</td>\n",
       "      <td>0.3303</td>\n",
       "      <td>0.2226</td>\n",
       "      <td>0.0000</td>\n",
       "    </tr>\n",
       "    <tr>\n",
       "      <th>23</th>\n",
       "      <td>Lead followup</td>\n",
       "      <td>telephone</td>\n",
       "      <td>0.1163</td>\n",
       "      <td>0.2614</td>\n",
       "      <td>0.0000</td>\n",
       "    </tr>\n",
       "    <tr>\n",
       "      <th>22</th>\n",
       "      <td>Lead followup</td>\n",
       "      <td>cellular</td>\n",
       "      <td>0.1163</td>\n",
       "      <td>0.0621</td>\n",
       "      <td>0.0000</td>\n",
       "    </tr>\n",
       "    <tr>\n",
       "      <th>33</th>\n",
       "      <td>SMS callbacks</td>\n",
       "      <td>cellular</td>\n",
       "      <td>0.3303</td>\n",
       "      <td>0.0621</td>\n",
       "      <td>0.0000</td>\n",
       "    </tr>\n",
       "    <tr>\n",
       "      <th>40</th>\n",
       "      <td>Voice blasts</td>\n",
       "      <td>cellular</td>\n",
       "      <td>0.3519</td>\n",
       "      <td>0.0621</td>\n",
       "      <td>0.0000</td>\n",
       "    </tr>\n",
       "    <tr>\n",
       "      <th>42</th>\n",
       "      <td>Welcome calls</td>\n",
       "      <td>cellular</td>\n",
       "      <td>0.4227</td>\n",
       "      <td>0.0621</td>\n",
       "      <td>0.0000</td>\n",
       "    </tr>\n",
       "    <tr>\n",
       "      <th>43</th>\n",
       "      <td>Welcome calls</td>\n",
       "      <td>telephone</td>\n",
       "      <td>0.4227</td>\n",
       "      <td>0.2614</td>\n",
       "      <td>0.0000</td>\n",
       "    </tr>\n",
       "    <tr>\n",
       "      <th>44</th>\n",
       "      <td>cellular</td>\n",
       "      <td>telephone</td>\n",
       "      <td>0.0621</td>\n",
       "      <td>0.2614</td>\n",
       "      <td>0.0000</td>\n",
       "    </tr>\n",
       "    <tr>\n",
       "      <th>36</th>\n",
       "      <td>Upgrades</td>\n",
       "      <td>Welcome calls</td>\n",
       "      <td>0.2226</td>\n",
       "      <td>0.4227</td>\n",
       "      <td>0.0000</td>\n",
       "    </tr>\n",
       "    <tr>\n",
       "      <th>37</th>\n",
       "      <td>Upgrades</td>\n",
       "      <td>cellular</td>\n",
       "      <td>0.2226</td>\n",
       "      <td>0.0621</td>\n",
       "      <td>0.0000</td>\n",
       "    </tr>\n",
       "    <tr>\n",
       "      <th>35</th>\n",
       "      <td>Upgrades</td>\n",
       "      <td>Voice blasts</td>\n",
       "      <td>0.2226</td>\n",
       "      <td>0.3519</td>\n",
       "      <td>0.0000</td>\n",
       "    </tr>\n",
       "    <tr>\n",
       "      <th>4</th>\n",
       "      <td>Cross selling</td>\n",
       "      <td>Upgrades</td>\n",
       "      <td>0.1505</td>\n",
       "      <td>0.2226</td>\n",
       "      <td>0.0001</td>\n",
       "    </tr>\n",
       "    <tr>\n",
       "      <th>41</th>\n",
       "      <td>Voice blasts</td>\n",
       "      <td>telephone</td>\n",
       "      <td>0.3519</td>\n",
       "      <td>0.2614</td>\n",
       "      <td>0.0012</td>\n",
       "    </tr>\n",
       "    <tr>\n",
       "      <th>2</th>\n",
       "      <td>Cross selling</td>\n",
       "      <td>Loan offers</td>\n",
       "      <td>0.1505</td>\n",
       "      <td>0.2067</td>\n",
       "      <td>0.0013</td>\n",
       "    </tr>\n",
       "    <tr>\n",
       "      <th>34</th>\n",
       "      <td>SMS callbacks</td>\n",
       "      <td>telephone</td>\n",
       "      <td>0.3303</td>\n",
       "      <td>0.2614</td>\n",
       "      <td>0.0069</td>\n",
       "    </tr>\n",
       "    <tr>\n",
       "      <th>32</th>\n",
       "      <td>SMS callbacks</td>\n",
       "      <td>Welcome calls</td>\n",
       "      <td>0.3303</td>\n",
       "      <td>0.4227</td>\n",
       "      <td>0.0072</td>\n",
       "    </tr>\n",
       "    <tr>\n",
       "      <th>29</th>\n",
       "      <td>Loan offers</td>\n",
       "      <td>telephone</td>\n",
       "      <td>0.2067</td>\n",
       "      <td>0.2614</td>\n",
       "      <td>0.0098</td>\n",
       "    </tr>\n",
       "    <tr>\n",
       "      <th>1</th>\n",
       "      <td>Cross selling</td>\n",
       "      <td>Lead followup</td>\n",
       "      <td>0.1505</td>\n",
       "      <td>0.1163</td>\n",
       "      <td>0.0114</td>\n",
       "    </tr>\n",
       "    <tr>\n",
       "      <th>11</th>\n",
       "      <td>Festive offers</td>\n",
       "      <td>SMS callbacks</td>\n",
       "      <td>0.4017</td>\n",
       "      <td>0.3303</td>\n",
       "      <td>0.0317</td>\n",
       "    </tr>\n",
       "    <tr>\n",
       "      <th>39</th>\n",
       "      <td>Voice blasts</td>\n",
       "      <td>Welcome calls</td>\n",
       "      <td>0.3519</td>\n",
       "      <td>0.4227</td>\n",
       "      <td>0.0499</td>\n",
       "    </tr>\n",
       "    <tr>\n",
       "      <th>38</th>\n",
       "      <td>Upgrades</td>\n",
       "      <td>telephone</td>\n",
       "      <td>0.2226</td>\n",
       "      <td>0.2614</td>\n",
       "      <td>0.0718</td>\n",
       "    </tr>\n",
       "    <tr>\n",
       "      <th>13</th>\n",
       "      <td>Festive offers</td>\n",
       "      <td>Voice blasts</td>\n",
       "      <td>0.4017</td>\n",
       "      <td>0.3519</td>\n",
       "      <td>0.1547</td>\n",
       "    </tr>\n",
       "    <tr>\n",
       "      <th>25</th>\n",
       "      <td>Loan offers</td>\n",
       "      <td>Upgrades</td>\n",
       "      <td>0.2067</td>\n",
       "      <td>0.2226</td>\n",
       "      <td>0.4369</td>\n",
       "    </tr>\n",
       "    <tr>\n",
       "      <th>31</th>\n",
       "      <td>SMS callbacks</td>\n",
       "      <td>Voice blasts</td>\n",
       "      <td>0.3303</td>\n",
       "      <td>0.3519</td>\n",
       "      <td>0.4806</td>\n",
       "    </tr>\n",
       "    <tr>\n",
       "      <th>14</th>\n",
       "      <td>Festive offers</td>\n",
       "      <td>Welcome calls</td>\n",
       "      <td>0.4017</td>\n",
       "      <td>0.4227</td>\n",
       "      <td>0.5843</td>\n",
       "    </tr>\n",
       "  </tbody>\n",
       "</table>\n",
       "</div>"
      ],
      "text/plain": [
       "          method_1        method_2  mean_1  mean_2  p_value\n",
       "0    Cross selling  Festive offers  0.1505  0.4017   0.0000\n",
       "3    Cross selling   SMS callbacks  0.1505  0.3303   0.0000\n",
       "6    Cross selling   Welcome calls  0.1505  0.4227   0.0000\n",
       "5    Cross selling    Voice blasts  0.1505  0.3519   0.0000\n",
       "7    Cross selling        cellular  0.1505  0.0621   0.0000\n",
       "10  Festive offers     Loan offers  0.4017  0.2067   0.0000\n",
       "9   Festive offers   Lead followup  0.4017  0.1163   0.0000\n",
       "8    Cross selling       telephone  0.1505  0.2614   0.0000\n",
       "15  Festive offers        cellular  0.4017  0.0621   0.0000\n",
       "12  Festive offers        Upgrades  0.4017  0.2226   0.0000\n",
       "21   Lead followup   Welcome calls  0.1163  0.4227   0.0000\n",
       "20   Lead followup    Voice blasts  0.1163  0.3519   0.0000\n",
       "19   Lead followup        Upgrades  0.1163  0.2226   0.0000\n",
       "18   Lead followup   SMS callbacks  0.1163  0.3303   0.0000\n",
       "17   Lead followup     Loan offers  0.1163  0.2067   0.0000\n",
       "16  Festive offers       telephone  0.4017  0.2614   0.0000\n",
       "24     Loan offers   SMS callbacks  0.2067  0.3303   0.0000\n",
       "26     Loan offers    Voice blasts  0.2067  0.3519   0.0000\n",
       "27     Loan offers   Welcome calls  0.2067  0.4227   0.0000\n",
       "28     Loan offers        cellular  0.2067  0.0621   0.0000\n",
       "30   SMS callbacks        Upgrades  0.3303  0.2226   0.0000\n",
       "23   Lead followup       telephone  0.1163  0.2614   0.0000\n",
       "22   Lead followup        cellular  0.1163  0.0621   0.0000\n",
       "33   SMS callbacks        cellular  0.3303  0.0621   0.0000\n",
       "40    Voice blasts        cellular  0.3519  0.0621   0.0000\n",
       "42   Welcome calls        cellular  0.4227  0.0621   0.0000\n",
       "43   Welcome calls       telephone  0.4227  0.2614   0.0000\n",
       "44        cellular       telephone  0.0621  0.2614   0.0000\n",
       "36        Upgrades   Welcome calls  0.2226  0.4227   0.0000\n",
       "37        Upgrades        cellular  0.2226  0.0621   0.0000\n",
       "35        Upgrades    Voice blasts  0.2226  0.3519   0.0000\n",
       "4    Cross selling        Upgrades  0.1505  0.2226   0.0001\n",
       "41    Voice blasts       telephone  0.3519  0.2614   0.0012\n",
       "2    Cross selling     Loan offers  0.1505  0.2067   0.0013\n",
       "34   SMS callbacks       telephone  0.3303  0.2614   0.0069\n",
       "32   SMS callbacks   Welcome calls  0.3303  0.4227   0.0072\n",
       "29     Loan offers       telephone  0.2067  0.2614   0.0098\n",
       "1    Cross selling   Lead followup  0.1505  0.1163   0.0114\n",
       "11  Festive offers   SMS callbacks  0.4017  0.3303   0.0317\n",
       "39    Voice blasts   Welcome calls  0.3519  0.4227   0.0499\n",
       "38        Upgrades       telephone  0.2226  0.2614   0.0718\n",
       "13  Festive offers    Voice blasts  0.4017  0.3519   0.1547\n",
       "25     Loan offers        Upgrades  0.2067  0.2226   0.4369\n",
       "31   SMS callbacks    Voice blasts  0.3303  0.3519   0.4806\n",
       "14  Festive offers   Welcome calls  0.4017  0.4227   0.5843"
      ]
     },
     "execution_count": 359,
     "metadata": {},
     "output_type": "execute_result"
    }
   ],
   "source": [
    "pairwise_ttest_df.head(50)"
   ]
  },
  {
   "cell_type": "markdown",
   "id": "02fe8bfc",
   "metadata": {},
   "source": [
    "- **Strong Evidence of Differences:** Most p-values are extremely low (p < 0.001), indicating clear, statistically significant differences in success rates between many strategy pairs.\n",
    "\n",
    "- **Top Performers Stand Out:** Strategies like *Welcome calls* and *Festive offers* consistently outperform others across multiple comparisons, making them strong candidates for optimization focus.\n"
   ]
  },
  {
   "cell_type": "markdown",
   "id": "65045c12",
   "metadata": {},
   "source": [
    "## a/b test (Turkey's HSD) - best marketing strategy"
   ]
  },
  {
   "cell_type": "markdown",
   "id": "2cbf6609",
   "metadata": {},
   "source": [
    "- **Global Null (H₀):** All marketing strategies in the treatment group have the same mean conversion rate—any observed differences are due to chance.  \n",
    "- **Global Alternative (H₁):** At least one strategy’s mean conversion rate differs from the others, indicating a real performance gap.  \n",
    "- **Pairwise Null (Tukey HSD):** For any two strategies _i_ and _j_, their average success rates are equal (μᵢ = μⱼ).  \n",
    "- **Pairwise Alternative (Tukey HSD):** For strategies _i_ vs. _j_, the true means are different\n"
   ]
  },
  {
   "cell_type": "markdown",
   "id": "3be932f5",
   "metadata": {},
   "source": [
    "**Assumptions Check – Tukey's HSD Test**\n",
    "\n",
    "| Assumption                         | Description (One-Liner)                                                         | Status        |\n",
    "|-----------------------------------|---------------------------------------------------------------------------------|---------------|\n",
    "| Independence of observations       | Each data point is independent; no repeated measures or dependencies            | Valid         |\n",
    "| Normality of residuals             | Residuals from ANOVA model are approximately normally distributed               | Not Valid |\n",
    "| Homogeneity of variances           | Variance across all groups should be approximately equal                        | Valid (Partially) |\n",
    "| Equal sample sizes (ideal)         | Performs best when group sizes are equal or nearly equal                        | Approx. valid |\n",
    "| Prior significant ANOVA            | Tukey's HSD should follow a significant one-way ANOVA result                    | Valid         |\n"
   ]
  },
  {
   "cell_type": "markdown",
   "id": "7b2aacab",
   "metadata": {},
   "source": [
    "\n",
    "---\n",
    "\n",
    "\n",
    "1. **Filtered for Treatment Group**\n",
    "   Restricted analysis to `group == 'treatment'` to isolate effectiveness between contact methods without control group influence.\n",
    "\n",
    "2. **Defined Grouping and Outcome Variables**\n",
    "   Used `contact` as the categorical factor and binary `outcome` as the dependent variable to compare mean success rates across methods.\n",
    "\n",
    "3. **Applied Tukey's HSD for Multiple Comparisons**\n",
    "   Ran Tukey’s HSD to test **all pairwise differences** while controlling the **family-wise error rate (FWER)** , critical for 45 comparisons (10C2).\n",
    "\n",
    "4. **Converted and Sorted Results**\n",
    "   Parsed Tukey’s summary into a DataFrame and sorted by `p-adj` to prioritize the most statistically meaningful differences.\n",
    "\n",
    "5. **Interpreted Statistical Significance via `reject` Flag**\n",
    "   Used `reject == True` to identify contact pairs with **significant differences in treatment success rates**, adjusted for multiple testing.\n"
   ]
  },
  {
   "cell_type": "markdown",
   "id": "78f68961",
   "metadata": {},
   "source": [
    "- Normality of residuals condition is not valid in this case."
   ]
  },
  {
   "cell_type": "code",
   "execution_count": 126,
   "id": "02de99a1",
   "metadata": {},
   "outputs": [
    {
     "name": "stdout",
     "output_type": "stream",
     "text": [
      "Collecting statsmodels\n",
      "  Downloading statsmodels-0.14.4-cp310-cp310-win_amd64.whl.metadata (9.5 kB)\n",
      "Requirement already satisfied: numpy<3,>=1.22.3 in c:\\users\\patil shinde\\.conda\\envs\\cls\\lib\\site-packages (from statsmodels) (2.2.5)\n",
      "Requirement already satisfied: scipy!=1.9.2,>=1.8 in c:\\users\\patil shinde\\.conda\\envs\\cls\\lib\\site-packages (from statsmodels) (1.15.3)\n",
      "Requirement already satisfied: pandas!=2.1.0,>=1.4 in c:\\users\\patil shinde\\.conda\\envs\\cls\\lib\\site-packages (from statsmodels) (2.2.3)\n",
      "Collecting patsy>=0.5.6 (from statsmodels)\n",
      "  Downloading patsy-1.0.1-py2.py3-none-any.whl.metadata (3.3 kB)\n",
      "Requirement already satisfied: packaging>=21.3 in c:\\users\\patil shinde\\.conda\\envs\\cls\\lib\\site-packages (from statsmodels) (24.2)\n",
      "Requirement already satisfied: python-dateutil>=2.8.2 in c:\\users\\patil shinde\\.conda\\envs\\cls\\lib\\site-packages (from pandas!=2.1.0,>=1.4->statsmodels) (2.9.0.post0)\n",
      "Requirement already satisfied: pytz>=2020.1 in c:\\users\\patil shinde\\.conda\\envs\\cls\\lib\\site-packages (from pandas!=2.1.0,>=1.4->statsmodels) (2024.1)\n",
      "Requirement already satisfied: tzdata>=2022.7 in c:\\users\\patil shinde\\.conda\\envs\\cls\\lib\\site-packages (from pandas!=2.1.0,>=1.4->statsmodels) (2025.2)\n",
      "Requirement already satisfied: six>=1.5 in c:\\users\\patil shinde\\.conda\\envs\\cls\\lib\\site-packages (from python-dateutil>=2.8.2->pandas!=2.1.0,>=1.4->statsmodels) (1.17.0)\n",
      "Downloading statsmodels-0.14.4-cp310-cp310-win_amd64.whl (9.8 MB)\n",
      "   ---------------------------------------- 0.0/9.8 MB ? eta -:--:--\n",
      "   --------- ------------------------------ 2.4/9.8 MB 11.2 MB/s eta 0:00:01\n",
      "   -------------------- ------------------- 5.0/9.8 MB 11.6 MB/s eta 0:00:01\n",
      "   ------------------------------ --------- 7.6/9.8 MB 11.7 MB/s eta 0:00:01\n",
      "   ---------------------------------------  9.7/9.8 MB 11.9 MB/s eta 0:00:01\n",
      "   ---------------------------------------- 9.8/9.8 MB 10.8 MB/s eta 0:00:00\n",
      "Downloading patsy-1.0.1-py2.py3-none-any.whl (232 kB)\n",
      "Installing collected packages: patsy, statsmodels\n",
      "\n",
      "   ---------------------------------------- 0/2 [patsy]\n",
      "   ---------------------------------------- 0/2 [patsy]\n",
      "   ---------------------------------------- 0/2 [patsy]\n",
      "   ---------------------------------------- 0/2 [patsy]\n",
      "   -------------------- ------------------- 1/2 [statsmodels]\n",
      "   -------------------- ------------------- 1/2 [statsmodels]\n",
      "   -------------------- ------------------- 1/2 [statsmodels]\n",
      "   -------------------- ------------------- 1/2 [statsmodels]\n",
      "   -------------------- ------------------- 1/2 [statsmodels]\n",
      "   -------------------- ------------------- 1/2 [statsmodels]\n",
      "   -------------------- ------------------- 1/2 [statsmodels]\n",
      "   -------------------- ------------------- 1/2 [statsmodels]\n",
      "   -------------------- ------------------- 1/2 [statsmodels]\n",
      "   -------------------- ------------------- 1/2 [statsmodels]\n",
      "   -------------------- ------------------- 1/2 [statsmodels]\n",
      "   -------------------- ------------------- 1/2 [statsmodels]\n",
      "   -------------------- ------------------- 1/2 [statsmodels]\n",
      "   -------------------- ------------------- 1/2 [statsmodels]\n",
      "   -------------------- ------------------- 1/2 [statsmodels]\n",
      "   -------------------- ------------------- 1/2 [statsmodels]\n",
      "   -------------------- ------------------- 1/2 [statsmodels]\n",
      "   -------------------- ------------------- 1/2 [statsmodels]\n",
      "   -------------------- ------------------- 1/2 [statsmodels]\n",
      "   -------------------- ------------------- 1/2 [statsmodels]\n",
      "   -------------------- ------------------- 1/2 [statsmodels]\n",
      "   -------------------- ------------------- 1/2 [statsmodels]\n",
      "   -------------------- ------------------- 1/2 [statsmodels]\n",
      "   -------------------- ------------------- 1/2 [statsmodels]\n",
      "   -------------------- ------------------- 1/2 [statsmodels]\n",
      "   -------------------- ------------------- 1/2 [statsmodels]\n",
      "   -------------------- ------------------- 1/2 [statsmodels]\n",
      "   -------------------- ------------------- 1/2 [statsmodels]\n",
      "   -------------------- ------------------- 1/2 [statsmodels]\n",
      "   -------------------- ------------------- 1/2 [statsmodels]\n",
      "   -------------------- ------------------- 1/2 [statsmodels]\n",
      "   -------------------- ------------------- 1/2 [statsmodels]\n",
      "   -------------------- ------------------- 1/2 [statsmodels]\n",
      "   -------------------- ------------------- 1/2 [statsmodels]\n",
      "   -------------------- ------------------- 1/2 [statsmodels]\n",
      "   -------------------- ------------------- 1/2 [statsmodels]\n",
      "   -------------------- ------------------- 1/2 [statsmodels]\n",
      "   -------------------- ------------------- 1/2 [statsmodels]\n",
      "   -------------------- ------------------- 1/2 [statsmodels]\n",
      "   -------------------- ------------------- 1/2 [statsmodels]\n",
      "   -------------------- ------------------- 1/2 [statsmodels]\n",
      "   -------------------- ------------------- 1/2 [statsmodels]\n",
      "   -------------------- ------------------- 1/2 [statsmodels]\n",
      "   -------------------- ------------------- 1/2 [statsmodels]\n",
      "   -------------------- ------------------- 1/2 [statsmodels]\n",
      "   -------------------- ------------------- 1/2 [statsmodels]\n",
      "   -------------------- ------------------- 1/2 [statsmodels]\n",
      "   -------------------- ------------------- 1/2 [statsmodels]\n",
      "   -------------------- ------------------- 1/2 [statsmodels]\n",
      "   -------------------- ------------------- 1/2 [statsmodels]\n",
      "   -------------------- ------------------- 1/2 [statsmodels]\n",
      "   -------------------- ------------------- 1/2 [statsmodels]\n",
      "   -------------------- ------------------- 1/2 [statsmodels]\n",
      "   -------------------- ------------------- 1/2 [statsmodels]\n",
      "   -------------------- ------------------- 1/2 [statsmodels]\n",
      "   -------------------- ------------------- 1/2 [statsmodels]\n",
      "   -------------------- ------------------- 1/2 [statsmodels]\n",
      "   -------------------- ------------------- 1/2 [statsmodels]\n",
      "   -------------------- ------------------- 1/2 [statsmodels]\n",
      "   -------------------- ------------------- 1/2 [statsmodels]\n",
      "   -------------------- ------------------- 1/2 [statsmodels]\n",
      "   -------------------- ------------------- 1/2 [statsmodels]\n",
      "   -------------------- ------------------- 1/2 [statsmodels]\n",
      "   -------------------- ------------------- 1/2 [statsmodels]\n",
      "   -------------------- ------------------- 1/2 [statsmodels]\n",
      "   -------------------- ------------------- 1/2 [statsmodels]\n",
      "   -------------------- ------------------- 1/2 [statsmodels]\n",
      "   -------------------- ------------------- 1/2 [statsmodels]\n",
      "   -------------------- ------------------- 1/2 [statsmodels]\n",
      "   -------------------- ------------------- 1/2 [statsmodels]\n",
      "   -------------------- ------------------- 1/2 [statsmodels]\n",
      "   -------------------- ------------------- 1/2 [statsmodels]\n",
      "   -------------------- ------------------- 1/2 [statsmodels]\n",
      "   -------------------- ------------------- 1/2 [statsmodels]\n",
      "   -------------------- ------------------- 1/2 [statsmodels]\n",
      "   -------------------- ------------------- 1/2 [statsmodels]\n",
      "   -------------------- ------------------- 1/2 [statsmodels]\n",
      "   -------------------- ------------------- 1/2 [statsmodels]\n",
      "   -------------------- ------------------- 1/2 [statsmodels]\n",
      "   -------------------- ------------------- 1/2 [statsmodels]\n",
      "   -------------------- ------------------- 1/2 [statsmodels]\n",
      "   -------------------- ------------------- 1/2 [statsmodels]\n",
      "   -------------------- ------------------- 1/2 [statsmodels]\n",
      "   -------------------- ------------------- 1/2 [statsmodels]\n",
      "   -------------------- ------------------- 1/2 [statsmodels]\n",
      "   -------------------- ------------------- 1/2 [statsmodels]\n",
      "   -------------------- ------------------- 1/2 [statsmodels]\n",
      "   -------------------- ------------------- 1/2 [statsmodels]\n",
      "   -------------------- ------------------- 1/2 [statsmodels]\n",
      "   -------------------- ------------------- 1/2 [statsmodels]\n",
      "   -------------------- ------------------- 1/2 [statsmodels]\n",
      "   -------------------- ------------------- 1/2 [statsmodels]\n",
      "   -------------------- ------------------- 1/2 [statsmodels]\n",
      "   -------------------- ------------------- 1/2 [statsmodels]\n",
      "   -------------------- ------------------- 1/2 [statsmodels]\n",
      "   -------------------- ------------------- 1/2 [statsmodels]\n",
      "   -------------------- ------------------- 1/2 [statsmodels]\n",
      "   -------------------- ------------------- 1/2 [statsmodels]\n",
      "   -------------------- ------------------- 1/2 [statsmodels]\n",
      "   -------------------- ------------------- 1/2 [statsmodels]\n",
      "   -------------------- ------------------- 1/2 [statsmodels]\n",
      "   -------------------- ------------------- 1/2 [statsmodels]\n",
      "   -------------------- ------------------- 1/2 [statsmodels]\n",
      "   -------------------- ------------------- 1/2 [statsmodels]\n",
      "   -------------------- ------------------- 1/2 [statsmodels]\n",
      "   -------------------- ------------------- 1/2 [statsmodels]\n",
      "   -------------------- ------------------- 1/2 [statsmodels]\n",
      "   -------------------- ------------------- 1/2 [statsmodels]\n",
      "   -------------------- ------------------- 1/2 [statsmodels]\n",
      "   -------------------- ------------------- 1/2 [statsmodels]\n",
      "   -------------------- ------------------- 1/2 [statsmodels]\n",
      "   -------------------- ------------------- 1/2 [statsmodels]\n",
      "   -------------------- ------------------- 1/2 [statsmodels]\n",
      "   -------------------- ------------------- 1/2 [statsmodels]\n",
      "   -------------------- ------------------- 1/2 [statsmodels]\n",
      "   -------------------- ------------------- 1/2 [statsmodels]\n",
      "   -------------------- ------------------- 1/2 [statsmodels]\n",
      "   -------------------- ------------------- 1/2 [statsmodels]\n",
      "   -------------------- ------------------- 1/2 [statsmodels]\n",
      "   -------------------- ------------------- 1/2 [statsmodels]\n",
      "   -------------------- ------------------- 1/2 [statsmodels]\n",
      "   -------------------- ------------------- 1/2 [statsmodels]\n",
      "   -------------------- ------------------- 1/2 [statsmodels]\n",
      "   -------------------- ------------------- 1/2 [statsmodels]\n",
      "   -------------------- ------------------- 1/2 [statsmodels]\n",
      "   -------------------- ------------------- 1/2 [statsmodels]\n",
      "   -------------------- ------------------- 1/2 [statsmodels]\n",
      "   -------------------- ------------------- 1/2 [statsmodels]\n",
      "   -------------------- ------------------- 1/2 [statsmodels]\n",
      "   -------------------- ------------------- 1/2 [statsmodels]\n",
      "   -------------------- ------------------- 1/2 [statsmodels]\n",
      "   -------------------- ------------------- 1/2 [statsmodels]\n",
      "   -------------------- ------------------- 1/2 [statsmodels]\n",
      "   -------------------- ------------------- 1/2 [statsmodels]\n",
      "   -------------------- ------------------- 1/2 [statsmodels]\n",
      "   -------------------- ------------------- 1/2 [statsmodels]\n",
      "   -------------------- ------------------- 1/2 [statsmodels]\n",
      "   -------------------- ------------------- 1/2 [statsmodels]\n",
      "   -------------------- ------------------- 1/2 [statsmodels]\n",
      "   ---------------------------------------- 2/2 [statsmodels]\n",
      "\n",
      "Successfully installed patsy-1.0.1 statsmodels-0.14.4\n",
      "Note: you may need to restart the kernel to use updated packages.\n"
     ]
    }
   ],
   "source": [
    "%pip install statsmodels"
   ]
  },
  {
   "cell_type": "code",
   "execution_count": 241,
   "id": "c789fb65",
   "metadata": {},
   "outputs": [],
   "source": [
    "import pandas as pd\n",
    "from statsmodels.stats.multicomp import pairwise_tukeyhsd"
   ]
  },
  {
   "cell_type": "code",
   "execution_count": null,
   "id": "8b09e5a5",
   "metadata": {},
   "outputs": [],
   "source": [
    "treatment_df = ab[ab['group'] == 'treatment'][['marketing_strategy', 'outcome']]"
   ]
  },
  {
   "cell_type": "code",
   "execution_count": null,
   "id": "4eba6d18",
   "metadata": {},
   "outputs": [],
   "source": [
    "tukey_result = pairwise_tukeyhsd(endog=treatment_df['outcome'],\n",
    "                                 groups=treatment_df['marketing_strategy'],\n",
    "                                 alpha=0.05)\n"
   ]
  },
  {
   "cell_type": "code",
   "execution_count": null,
   "id": "7faa3de9",
   "metadata": {},
   "outputs": [],
   "source": [
    "tukey_df = pd.DataFrame(data=tukey_result.summary().data[1:], columns=tukey_result.summary().data[0])\n",
    "tukey_df.sort_values('p-adj', inplace=True)\n"
   ]
  },
  {
   "cell_type": "code",
   "execution_count": null,
   "id": "13a9147a",
   "metadata": {},
   "outputs": [
    {
     "data": {
      "text/html": [
       "<div>\n",
       "<style scoped>\n",
       "    .dataframe tbody tr th:only-of-type {\n",
       "        vertical-align: middle;\n",
       "    }\n",
       "\n",
       "    .dataframe tbody tr th {\n",
       "        vertical-align: top;\n",
       "    }\n",
       "\n",
       "    .dataframe thead th {\n",
       "        text-align: right;\n",
       "    }\n",
       "</style>\n",
       "<table border=\"1\" class=\"dataframe\">\n",
       "  <thead>\n",
       "    <tr style=\"text-align: right;\">\n",
       "      <th></th>\n",
       "      <th>group1</th>\n",
       "      <th>group2</th>\n",
       "      <th>meandiff</th>\n",
       "      <th>p-adj</th>\n",
       "      <th>lower</th>\n",
       "      <th>upper</th>\n",
       "      <th>reject</th>\n",
       "    </tr>\n",
       "  </thead>\n",
       "  <tbody>\n",
       "    <tr>\n",
       "      <th>21</th>\n",
       "      <td>Lead followup</td>\n",
       "      <td>Welcome calls</td>\n",
       "      <td>0.3419</td>\n",
       "      <td>0.0</td>\n",
       "      <td>0.2670</td>\n",
       "      <td>0.4167</td>\n",
       "      <td>True</td>\n",
       "    </tr>\n",
       "    <tr>\n",
       "      <th>6</th>\n",
       "      <td>Cross selling</td>\n",
       "      <td>Welcome calls</td>\n",
       "      <td>0.2911</td>\n",
       "      <td>0.0</td>\n",
       "      <td>0.2161</td>\n",
       "      <td>0.3661</td>\n",
       "      <td>True</td>\n",
       "    </tr>\n",
       "    <tr>\n",
       "      <th>0</th>\n",
       "      <td>Cross selling</td>\n",
       "      <td>Festive offers</td>\n",
       "      <td>0.2657</td>\n",
       "      <td>0.0</td>\n",
       "      <td>0.1932</td>\n",
       "      <td>0.3381</td>\n",
       "      <td>True</td>\n",
       "    </tr>\n",
       "    <tr>\n",
       "      <th>20</th>\n",
       "      <td>Lead followup</td>\n",
       "      <td>Voice blasts</td>\n",
       "      <td>0.2590</td>\n",
       "      <td>0.0</td>\n",
       "      <td>0.1926</td>\n",
       "      <td>0.3254</td>\n",
       "      <td>True</td>\n",
       "    </tr>\n",
       "    <tr>\n",
       "      <th>27</th>\n",
       "      <td>Loan offers</td>\n",
       "      <td>Welcome calls</td>\n",
       "      <td>0.2510</td>\n",
       "      <td>0.0</td>\n",
       "      <td>0.1720</td>\n",
       "      <td>0.3301</td>\n",
       "      <td>True</td>\n",
       "    </tr>\n",
       "    <tr>\n",
       "      <th>36</th>\n",
       "      <td>Upgrades</td>\n",
       "      <td>Welcome calls</td>\n",
       "      <td>0.2089</td>\n",
       "      <td>0.0</td>\n",
       "      <td>0.1297</td>\n",
       "      <td>0.2882</td>\n",
       "      <td>True</td>\n",
       "    </tr>\n",
       "    <tr>\n",
       "      <th>5</th>\n",
       "      <td>Cross selling</td>\n",
       "      <td>Voice blasts</td>\n",
       "      <td>0.2083</td>\n",
       "      <td>0.0</td>\n",
       "      <td>0.1417</td>\n",
       "      <td>0.2748</td>\n",
       "      <td>True</td>\n",
       "    </tr>\n",
       "    <tr>\n",
       "      <th>18</th>\n",
       "      <td>Lead followup</td>\n",
       "      <td>SMS callbacks</td>\n",
       "      <td>0.2068</td>\n",
       "      <td>0.0</td>\n",
       "      <td>0.1459</td>\n",
       "      <td>0.2677</td>\n",
       "      <td>True</td>\n",
       "    </tr>\n",
       "    <tr>\n",
       "      <th>44</th>\n",
       "      <td>cellular</td>\n",
       "      <td>telephone</td>\n",
       "      <td>0.1925</td>\n",
       "      <td>0.0</td>\n",
       "      <td>0.1411</td>\n",
       "      <td>0.2438</td>\n",
       "      <td>True</td>\n",
       "    </tr>\n",
       "    <tr>\n",
       "      <th>26</th>\n",
       "      <td>Loan offers</td>\n",
       "      <td>Voice blasts</td>\n",
       "      <td>0.1682</td>\n",
       "      <td>0.0</td>\n",
       "      <td>0.0971</td>\n",
       "      <td>0.2393</td>\n",
       "      <td>True</td>\n",
       "    </tr>\n",
       "    <tr>\n",
       "      <th>23</th>\n",
       "      <td>Lead followup</td>\n",
       "      <td>telephone</td>\n",
       "      <td>0.1565</td>\n",
       "      <td>0.0</td>\n",
       "      <td>0.1026</td>\n",
       "      <td>0.2105</td>\n",
       "      <td>True</td>\n",
       "    </tr>\n",
       "    <tr>\n",
       "      <th>3</th>\n",
       "      <td>Cross selling</td>\n",
       "      <td>SMS callbacks</td>\n",
       "      <td>0.1560</td>\n",
       "      <td>0.0</td>\n",
       "      <td>0.0949</td>\n",
       "      <td>0.2172</td>\n",
       "      <td>True</td>\n",
       "    </tr>\n",
       "    <tr>\n",
       "      <th>32</th>\n",
       "      <td>SMS callbacks</td>\n",
       "      <td>Welcome calls</td>\n",
       "      <td>0.1351</td>\n",
       "      <td>0.0</td>\n",
       "      <td>0.0509</td>\n",
       "      <td>0.2192</td>\n",
       "      <td>True</td>\n",
       "    </tr>\n",
       "    <tr>\n",
       "      <th>19</th>\n",
       "      <td>Lead followup</td>\n",
       "      <td>Upgrades</td>\n",
       "      <td>0.1329</td>\n",
       "      <td>0.0</td>\n",
       "      <td>0.0790</td>\n",
       "      <td>0.1869</td>\n",
       "      <td>True</td>\n",
       "    </tr>\n",
       "    <tr>\n",
       "      <th>35</th>\n",
       "      <td>Upgrades</td>\n",
       "      <td>Voice blasts</td>\n",
       "      <td>0.1261</td>\n",
       "      <td>0.0</td>\n",
       "      <td>0.0548</td>\n",
       "      <td>0.1974</td>\n",
       "      <td>True</td>\n",
       "    </tr>\n",
       "  </tbody>\n",
       "</table>\n",
       "</div>"
      ],
      "text/plain": [
       "           group1          group2  meandiff  p-adj   lower   upper  reject\n",
       "21  Lead followup   Welcome calls    0.3419    0.0  0.2670  0.4167    True\n",
       "6   Cross selling   Welcome calls    0.2911    0.0  0.2161  0.3661    True\n",
       "0   Cross selling  Festive offers    0.2657    0.0  0.1932  0.3381    True\n",
       "20  Lead followup    Voice blasts    0.2590    0.0  0.1926  0.3254    True\n",
       "27    Loan offers   Welcome calls    0.2510    0.0  0.1720  0.3301    True\n",
       "36       Upgrades   Welcome calls    0.2089    0.0  0.1297  0.2882    True\n",
       "5   Cross selling    Voice blasts    0.2083    0.0  0.1417  0.2748    True\n",
       "18  Lead followup   SMS callbacks    0.2068    0.0  0.1459  0.2677    True\n",
       "44       cellular       telephone    0.1925    0.0  0.1411  0.2438    True\n",
       "26    Loan offers    Voice blasts    0.1682    0.0  0.0971  0.2393    True\n",
       "23  Lead followup       telephone    0.1565    0.0  0.1026  0.2105    True\n",
       "3   Cross selling   SMS callbacks    0.1560    0.0  0.0949  0.2172    True\n",
       "32  SMS callbacks   Welcome calls    0.1351    0.0  0.0509  0.2192    True\n",
       "19  Lead followup        Upgrades    0.1329    0.0  0.0790  0.1869    True\n",
       "35       Upgrades    Voice blasts    0.1261    0.0  0.0548  0.1974    True"
      ]
     },
     "execution_count": 250,
     "metadata": {},
     "output_type": "execute_result"
    }
   ],
   "source": [
    "tukey_df.sort_values('meandiff',ascending = False).head(15)\n"
   ]
  },
  {
   "cell_type": "markdown",
   "id": "2c9f66f3",
   "metadata": {},
   "source": [
    "- **Mean Difference (`meandiff`)**: Shows how much the average conversion rate of `group1` exceeds that of `group2`.  \n",
    "  - E.g. “Cross selling vs. Festive offers” has meandiff = 0.2657, meaning Festive offers outperforms Cross selling by ~26.6 percentage points.\n",
    "\n",
    "- **Adjusted p-Value (`p-adj`) & `reject` Flag**:  \n",
    "  - `p-adj = 0.0` (i.e. < 0.001) and `reject = True` indicate the difference is statistically significant after controlling for multiple comparisons.  \n",
    "  - If `reject = False`, we’d conclude no reliable difference for that pair.\n",
    "\n",
    "- **Confidence Interval (`lower`, `upper`)**:  \n",
    "  - The 95 % CI for the mean difference; if it does **not** include 0, the difference is significant.  \n",
    "  - E.g. for “Cross selling vs. cellular”, CI is [–0.1312, –0.0422], entirely below zero, confirming cellular beats Cross selling.\n",
    "\n",
    "- **Direction & Magnitude**:  \n",
    "  - Positive `meandiff` means `group1` > `group2`; negative means `group2` > `group1`.  \n",
    "  - Larger absolute values indicate bigger practical lift.\n",
    "\n",
    "- **Top Performers**:  \n",
    "  - Pairs with the largest positive differences (e.g., “Lead followup vs. Welcome calls”: 0.3419) highlight which strategies yield the biggest gains over others.\n",
    "\n",
    "- **Actionable Insight**:  \n",
    "  - Any pair with `reject = True` and a large positive `meandiff` marks one strategy as clearly superior to the other, guiding choice of the best marketing approach.  \n"
   ]
  },
  {
   "cell_type": "code",
   "execution_count": 248,
   "id": "f6e62284",
   "metadata": {},
   "outputs": [],
   "source": [
    "import matplotlib.pyplot as plt\n",
    "import seaborn as sns\n",
    "import numpy as np"
   ]
  },
  {
   "cell_type": "code",
   "execution_count": null,
   "id": "c719e956",
   "metadata": {},
   "outputs": [
    {
     "data": {
      "image/png": "[encoded data removed]",
      "text/plain": [
       "<Figure size 1000x800 with 2 Axes>"
      ]
     },
     "metadata": {},
     "output_type": "display_data"
    }
   ],
   "source": [
    "heatmap_data = pd.pivot_table(tukey_df, values='meandiff',\n",
    "                              index='group1', columns='group2')\n",
    "\n",
    "heatmap_data_full = heatmap_data.combine_first(heatmap_data.T)\n",
    "\n",
    "plt.figure(figsize=(10, 8))\n",
    "sns.heatmap(heatmap_data_full, annot=True, fmt=\".2f\", cmap=\"coolwarm\", cbar_kws={'label': 'p-value'})\n",
    "plt.title(\"Tukey HSD Pairwise Comparison (mean_differences)\")\n",
    "plt.tight_layout()\n",
    "plt.show()"
   ]
  },
  {
   "cell_type": "markdown",
   "id": "f1b009d3",
   "metadata": {},
   "source": [
    "- **Top Performer:** **Welcome calls** has the highest mean treatment success rate (0.4416) and significantly outperforms every other method in pairwise tests (all p-adj ≪ 0.05).  \n",
    "- **Runner-Up:** **Festive offers** (0.4162) is a close second but is not significantly different from Welcome calls (p-adj ≈ 0.51).  \n",
    "- **High Lifts:** Methods like **Voice blasts** (0.3588) and **SMS callbacks** (0.3066) also show strong, significant gains over most others (p-adj < 0.001).  \n",
    "- **Recommendation:** Prioritize **Welcome calls** as your primary strategy, with **Festive offers** and **Voice blasts** as backups given their high, statistically robust conversion rates.  \n"
   ]
  },
  {
   "cell_type": "code",
   "execution_count": null,
   "id": "14305937",
   "metadata": {},
   "outputs": [],
   "source": []
  },
  {
   "cell_type": "markdown",
   "id": "5f24b5b7",
   "metadata": {},
   "source": [
    "# 9. a/b test - findings and summary "
   ]
  },
  {
   "cell_type": "markdown",
   "id": "85777751",
   "metadata": {},
   "source": [
    "### Summary of Parametric (Assumptions - Valid) Test Results \n"
   ]
  },
  {
   "cell_type": "markdown",
   "id": "0a96cd6c",
   "metadata": {},
   "source": [
    "\n",
    "| **Test**             | **Hypotheses**                                                                                                     | **Key Findings**                                                                                                     | **Recommendation**                                  |\n",
    "|----------------------|----------------------------------------------------------------------------------------------------------------------|------------------------------------------------------------------------------------------------------------------------|-----------------------------------------------------|\n",
    "| **Chi-Square Test**  | H₀: Treatment and control have equal success rates<br>H₁: Success rates differ                                     | 9 out of 10 strategies show significant lift (p < 0.001), “Welcome calls” leads, “cellular” shows negative lift       | Prioritize high-lift strategies, avoid “cellular”   |\n",
    "| **Bayesian A/B Test**| H₀: All strategies have the same true conversion rate<br>H₁: At least one strategy has a different true rate        | **Welcome Calls** has P(best) ≈ 0.744, **Festive Offers** ≈ 0.253, others ≈ 0                                          | Focus on top two strategies with high posterior prob|\n",
    "| **Pairwise Z-Test**  | H₀: pᵢ = pⱼ (equal success rates)<br>H₁: pᵢ ≠ pⱼ (different success rates)                                          | Most p-values < 0.001; **Welcome Calls** clearly leads, **Cellular** and **Telephone** underperform consistently       | Use Z-test to reinforce best/worst strategy choices |\n"
   ]
  },
  {
   "cell_type": "markdown",
   "id": "46fba8ea",
   "metadata": {},
   "source": [
    "### Summary of Non-Parametric Test Results \n"
   ]
  },
  {
   "cell_type": "markdown",
   "id": "f04f5e32",
   "metadata": {},
   "source": [
    "\n",
    "| **Test**                | **Hypotheses**                                                                                       | **Key Findings**                                                                                             | **Recommendation**                                   |\n",
    "|-------------------------|------------------------------------------------------------------------------------------------------|--------------------------------------------------------------------------------------------------------------|------------------------------------------------------|\n",
    "| **Fisher’s Exact Test** | H₀: Treatment = Control success rate<br>H₁: Success rates differ                                     | p = 0.0000 - significant, Odds Ratio = 2.42 - Treatment group converts more                                  | Confirms treatment effectiveness                     |\n",
    "| **Kruskal–Wallis Test** | H₀: All strategies have same distribution<br>H₁: At least one strategy differs                       | p = 0.0000 - significant, at least one strategy differs in conversion distribution                           | Proceed with pairwise comparisons                    |\n",
    "| **Mann–Whitney U Test** | H₀: Strategy i = Strategy j distribution<br>H₁: One strategy has significantly higher conversion     | “Welcome Calls” wins 8 pairwise tests, “Festive Offers” & “Voice Blasts” also strong, “Cellular” performs worst | Prioritize top 3 performers, avoid low scorers       |\n"
   ]
  },
  {
   "cell_type": "markdown",
   "id": "6c172bbc",
   "metadata": {},
   "source": [
    "###  Summary of Parametric Test (Assumptions - Partially Valid) Results \n"
   ]
  },
  {
   "cell_type": "markdown",
   "id": "2ce73946",
   "metadata": {},
   "source": [
    "\n",
    "| **Test**              | **Hypotheses**                                                                                       | **Key Findings**                                                                                      | **Recommendation**                            |\n",
    "|-----------------------|------------------------------------------------------------------------------------------------------|--------------------------------------------------------------------------------------------------------|-----------------------------------------------|\n",
    "| **One-Way ANOVA**     | H₀: All strategies have equal mean conversion rates<br>H₁: At least one strategy differs              | Welcome Calls (74.4%) and Festive Offers (25.3%) dominate in probability of being the best performer   | Focus on top 2 strategies                     |\n",
    "| **Pairwise t-Tests**  | H₀: Mean of strategy _i_ = strategy _j_<br>H₁: Means are not equal                                   | Most p-values ≪ 0.001 - clear significant differences between pairs; top performers stand out           | Target strategies with consistent superiority |\n",
    "| **Tukey’s HSD**       | Global H₀: All strategies have equal means<br>Pairwise H₀: μᵢ = μⱼ                                   | Welcome Calls significantly better than all others, Festive Offers a strong runner-up (p-adj ≈ 0.51)   | Prioritize Welcome Calls, consider backups    |\n"
   ]
  },
  {
   "cell_type": "markdown",
   "id": "1b8d3904",
   "metadata": {},
   "source": [
    "### Final Findings"
   ]
  },
  {
   "cell_type": "markdown",
   "id": "93db3bef",
   "metadata": {},
   "source": [
    "\n",
    "* **Treatment Effect Proven**: In **100% of relevant tests** (Chi-square, Fisher’s, Z-test, logistic models), the **treatment group significantly outperforms control**, confirming the effectiveness of marketing contact.\n",
    "* **Strategies Differ Significantly**: Across **all strategy comparison tests** (One-way ANOVA, Kruskal–Wallis, Tukey HSD, Mann–Whitney U, Z-test), results consistently show **statistically significant differences** between marketing strategies.\n",
    "* **Welcome Calls Dominate**: In **100% of model rankings and pairwise tests**, **Welcome Calls** emerged as the **top-performing strategy**, with the highest success rate and most consistent wins across parametric and non-parametric methods.\n"
   ]
  },
  {
   "cell_type": "markdown",
   "id": "5b18f033",
   "metadata": {},
   "source": [
    "# 10. Future Scope"
   ]
  },
  {
   "cell_type": "markdown",
   "id": "3338e687",
   "metadata": {},
   "source": [
    "\n",
    "* Having identified **“Welcome Calls”** as the top-performing marketing strategy, the project opens several promising directions for both technical and business advancement. \n",
    "* With continued experimentation and data-driven iteration, this project can evolve into a full-fledged **campaign intelligence system**  guiding tactical decisions and long-term marketing strategy."
   ]
  },
  {
   "cell_type": "markdown",
   "id": "66befc13",
   "metadata": {},
   "source": [
    "### Technical Enhancements"
   ]
  },
  {
   "cell_type": "markdown",
   "id": "11aaebc5",
   "metadata": {},
   "source": [
    "\n",
    "\n",
    "- **Predictive Modeling**: Build a machine learning model (e.g., logistic regression, random forest) to predict conversion likelihood based on user features, timing, and contact strategy.\n",
    "- **Uplift Modeling**: Move beyond average effects by estimating **individual-level treatment impact** to better target high-probability converters.\n",
    "- **Time-Series & Sequence Analysis**: Explore how **timing and sequencing of campaigns** affect user response over time (e.g., repeated contact fatigue).\n",
    "- **Automated Testing Pipeline**: Create reusable A/B testing frameworks with built-in diagnostic checks, assumption validation, and reporting.\n",
    "\n",
    "---\n",
    "\n",
    "\n"
   ]
  },
  {
   "cell_type": "markdown",
   "id": "9dae4ecc",
   "metadata": {},
   "source": [
    "### Business & Operational Use"
   ]
  },
  {
   "cell_type": "markdown",
   "id": "de05f979",
   "metadata": {},
   "source": [
    "\n",
    "\n",
    "- **Strategy Optimization**: Use the findings to **scale Welcome Calls**, while testing cost-effective variants (e.g., script changes, call timing).\n",
    "- **Personalization**: Implement **strategy matching** , recommending the best marketing method for a customer segment based on demographics or behavior.\n",
    "- **Cross-Channel Synergy**: Explore hybrid strategies (e.g., SMS + Welcome Call) to boost overall performance through **multi-touch campaigns**.\n",
    "- **ROI Monitoring**: Combine conversion rates with **cost analysis** to evaluate true profitability and optimize budget allocation.\n",
    "\n",
    "---"
   ]
  }
 ],
 "metadata": {
  "kernelspec": {
   "display_name": "cls",
   "language": "python",
   "name": "python3"
  },
  "language_info": {
   "codemirror_mode": {
    "name": "ipython",
    "version": 3
   },
   "file_extension": ".py",
   "mimetype": "text/x-python",
   "name": "python",
   "nbconvert_exporter": "python",
   "pygments_lexer": "ipython3",
   "version": "3.10.16"
  }
 },
 "nbformat": 4,
 "nbformat_minor": 5
}
